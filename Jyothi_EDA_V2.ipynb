{
 "cells": [
  {
   "cell_type": "code",
   "execution_count": 1,
   "metadata": {},
   "outputs": [],
   "source": [
    "import pandas as pd\n",
    "import numpy as np\n",
    "import seaborn as sns\n",
    "import matplotlib.pyplot as plt\n",
    "%matplotlib inline"
   ]
  },
  {
   "cell_type": "code",
   "execution_count": 2,
   "metadata": {},
   "outputs": [
    {
     "name": "stdout",
     "output_type": "stream",
     "text": [
      "training file - ./kaggledata/train_v2.csv\n",
      "test file- ./kaggledata/test_v2.csv\n"
     ]
    }
   ],
   "source": [
    "DIR= './kaggledata'\n",
    "FILE='/train_v2.csv'\n",
    "TEST_FILE ='/test_v2.csv'\n",
    "file='{}{}'.format(DIR,FILE)\n",
    "\n",
    "test_file='{}{}'.format(DIR,TEST_FILE)\n",
    "print('training file -',file)\n",
    "print('test file-',test_file)"
   ]
  },
  {
   "cell_type": "code",
   "execution_count": 3,
   "metadata": {},
   "outputs": [
    {
     "name": "stdout",
     "output_type": "stream",
     "text": [
      "<class 'pandas.core.frame.DataFrame'>\n",
      "RangeIndex: 5 entries, 0 to 4\n",
      "Data columns (total 13 columns):\n",
      " #   Column                Non-Null Count  Dtype \n",
      "---  ------                --------------  ----- \n",
      " 0   channelGrouping       5 non-null      object\n",
      " 1   customDimensions      5 non-null      object\n",
      " 2   date                  5 non-null      int64 \n",
      " 3   device                5 non-null      object\n",
      " 4   fullVisitorId         5 non-null      int64 \n",
      " 5   geoNetwork            5 non-null      object\n",
      " 6   hits                  5 non-null      object\n",
      " 7   socialEngagementType  5 non-null      object\n",
      " 8   totals                5 non-null      object\n",
      " 9   trafficSource         5 non-null      object\n",
      " 10  visitId               5 non-null      int64 \n",
      " 11  visitNumber           5 non-null      int64 \n",
      " 12  visitStartTime        5 non-null      int64 \n",
      "dtypes: int64(5), object(8)\n",
      "memory usage: 648.0+ bytes\n",
      "<class 'pandas.core.frame.DataFrame'>\n",
      "RangeIndex: 5 entries, 0 to 4\n",
      "Data columns (total 13 columns):\n",
      " #   Column                Non-Null Count  Dtype \n",
      "---  ------                --------------  ----- \n",
      " 0   channelGrouping       5 non-null      object\n",
      " 1   customDimensions      5 non-null      object\n",
      " 2   date                  5 non-null      int64 \n",
      " 3   device                5 non-null      object\n",
      " 4   fullVisitorId         5 non-null      int64 \n",
      " 5   geoNetwork            5 non-null      object\n",
      " 6   hits                  5 non-null      object\n",
      " 7   socialEngagementType  5 non-null      object\n",
      " 8   totals                5 non-null      object\n",
      " 9   trafficSource         5 non-null      object\n",
      " 10  visitId               5 non-null      int64 \n",
      " 11  visitNumber           5 non-null      int64 \n",
      " 12  visitStartTime        5 non-null      int64 \n",
      "dtypes: int64(5), object(8)\n",
      "memory usage: 648.0+ bytes\n"
     ]
    }
   ],
   "source": [
    "df=pd.read_csv(file,nrows=5)\n",
    "\n",
    "df.info()\n",
    "test_df=pd.read_csv(test_file,nrows=5)\n",
    "test_df.info()"
   ]
  },
  {
   "cell_type": "markdown",
   "metadata": {},
   "source": [
    "# Read the train_v2.csv file - random rows to get closer to sample data with workable size "
   ]
  },
  {
   "cell_type": "code",
   "execution_count": 4,
   "metadata": {},
   "outputs": [
    {
     "name": "stderr",
     "output_type": "stream",
     "text": [
      "C:\\Users\\Pavan\\anaconda3\\lib\\site-packages\\IPython\\core\\interactiveshell.py:3071: DtypeWarning: Columns (4) have mixed types.Specify dtype option on import or set low_memory=False.\n",
      "  has_raised = await self.run_ast_nodes(code_ast.body, cell_name,\n"
     ]
    },
    {
     "name": "stdout",
     "output_type": "stream",
     "text": [
      "<class 'pandas.core.frame.DataFrame'>\n",
      "RangeIndex: 401589 entries, 0 to 401588\n",
      "Data columns (total 13 columns):\n",
      " #   Column                Non-Null Count   Dtype \n",
      "---  ------                --------------   ----- \n",
      " 0   channelGrouping       401589 non-null  object\n",
      " 1   customDimensions      401589 non-null  object\n",
      " 2   date                  401589 non-null  int64 \n",
      " 3   device                401589 non-null  object\n",
      " 4   fullVisitorId         401589 non-null  object\n",
      " 5   geoNetwork            401589 non-null  object\n",
      " 6   hits                  401589 non-null  object\n",
      " 7   socialEngagementType  401589 non-null  object\n",
      " 8   totals                401589 non-null  object\n",
      " 9   trafficSource         401589 non-null  object\n",
      " 10  visitId               401589 non-null  int64 \n",
      " 11  visitNumber           401589 non-null  int64 \n",
      " 12  visitStartTime        401589 non-null  int64 \n",
      "dtypes: int64(4), object(9)\n",
      "memory usage: 39.8+ MB\n"
     ]
    }
   ],
   "source": [
    "import json\n",
    "import random\n",
    "\n",
    "\n",
    "# Load ALL test data\n",
    "test_df = pd.read_csv(test_file, converters={'device':json.loads, 'geoNetwork':json.loads, 'totals':json.loads, 'trafficSource':json.loads},header=0)\n",
    "\n",
    "test_df.info()\n",
    "\n"
   ]
  },
  {
   "cell_type": "code",
   "execution_count": 5,
   "metadata": {},
   "outputs": [
    {
     "name": "stdout",
     "output_type": "stream",
     "text": [
      "<class 'pandas.core.frame.DataFrame'>\n",
      "RangeIndex: 351368 entries, 0 to 351367\n",
      "Data columns (total 13 columns):\n",
      " #   Column                Non-Null Count   Dtype \n",
      "---  ------                --------------   ----- \n",
      " 0   channelGrouping       351368 non-null  object\n",
      " 1   customDimensions      351368 non-null  object\n",
      " 2   date                  351368 non-null  int64 \n",
      " 3   device                351368 non-null  object\n",
      " 4   fullVisitorId         351368 non-null  object\n",
      " 5   geoNetwork            351368 non-null  object\n",
      " 6   hits                  351368 non-null  object\n",
      " 7   socialEngagementType  351368 non-null  object\n",
      " 8   totals                351368 non-null  object\n",
      " 9   trafficSource         351368 non-null  object\n",
      " 10  visitId               351368 non-null  int64 \n",
      " 11  visitNumber           351368 non-null  int64 \n",
      " 12  visitStartTime        351368 non-null  int64 \n",
      "dtypes: int64(4), object(9)\n",
      "memory usage: 34.8+ MB\n"
     ]
    }
   ],
   "source": [
    "n = 31458337\n",
    "s = 25000000 #desired sample size\n",
    "\n",
    "\n",
    "skip = sorted(random.sample(range(1,n+1),s)) #the 0-indexed header will not be included in the skip list\n",
    "\n",
    "df = pd.read_csv(file, converters={'device':json.loads, 'geoNetwork':json.loads, 'totals':json.loads, 'trafficSource':json.loads}, dtype={'fullVisitorId': 'str'}, header=0,skiprows=skip)\n",
    "\n",
    "df.info()"
   ]
  },
  {
   "cell_type": "code",
   "execution_count": 6,
   "metadata": {},
   "outputs": [
    {
     "data": {
      "text/html": [
       "<div>\n",
       "<style scoped>\n",
       "    .dataframe tbody tr th:only-of-type {\n",
       "        vertical-align: middle;\n",
       "    }\n",
       "\n",
       "    .dataframe tbody tr th {\n",
       "        vertical-align: top;\n",
       "    }\n",
       "\n",
       "    .dataframe thead th {\n",
       "        text-align: right;\n",
       "    }\n",
       "</style>\n",
       "<table border=\"1\" class=\"dataframe\">\n",
       "  <thead>\n",
       "    <tr style=\"text-align: right;\">\n",
       "      <th></th>\n",
       "      <th>channelGrouping</th>\n",
       "      <th>customDimensions</th>\n",
       "      <th>date</th>\n",
       "      <th>device</th>\n",
       "      <th>fullVisitorId</th>\n",
       "      <th>geoNetwork</th>\n",
       "      <th>hits</th>\n",
       "      <th>socialEngagementType</th>\n",
       "      <th>totals</th>\n",
       "      <th>trafficSource</th>\n",
       "      <th>visitId</th>\n",
       "      <th>visitNumber</th>\n",
       "      <th>visitStartTime</th>\n",
       "    </tr>\n",
       "  </thead>\n",
       "  <tbody>\n",
       "    <tr>\n",
       "      <th>0</th>\n",
       "      <td>Organic Search</td>\n",
       "      <td>[{'index': '4', 'value': 'North America'}]</td>\n",
       "      <td>20171016</td>\n",
       "      <td>{'browser': 'Safari', 'browserVersion': 'not a...</td>\n",
       "      <td>5983987899933814948</td>\n",
       "      <td>{'continent': 'Americas', 'subContinent': 'Nor...</td>\n",
       "      <td>[{'hitNumber': '1', 'time': '0', 'hour': '11',...</td>\n",
       "      <td>Not Socially Engaged</td>\n",
       "      <td>{'visits': '1', 'hits': '2', 'pageviews': '2',...</td>\n",
       "      <td>{'campaign': '(not set)', 'source': 'google', ...</td>\n",
       "      <td>1508177658</td>\n",
       "      <td>1</td>\n",
       "      <td>1508177658</td>\n",
       "    </tr>\n",
       "    <tr>\n",
       "      <th>1</th>\n",
       "      <td>Organic Search</td>\n",
       "      <td>[{'index': '4', 'value': 'EMEA'}]</td>\n",
       "      <td>20171016</td>\n",
       "      <td>{'browser': 'Chrome', 'browserVersion': 'not a...</td>\n",
       "      <td>2631312367160271984</td>\n",
       "      <td>{'continent': 'Europe', 'subContinent': 'North...</td>\n",
       "      <td>[{'hitNumber': '1', 'time': '0', 'hour': '9', ...</td>\n",
       "      <td>Not Socially Engaged</td>\n",
       "      <td>{'visits': '1', 'hits': '2', 'pageviews': '2',...</td>\n",
       "      <td>{'campaign': '(not set)', 'source': 'google', ...</td>\n",
       "      <td>1508170914</td>\n",
       "      <td>1</td>\n",
       "      <td>1508170914</td>\n",
       "    </tr>\n",
       "    <tr>\n",
       "      <th>2</th>\n",
       "      <td>Organic Search</td>\n",
       "      <td>[{'index': '4', 'value': 'APAC'}]</td>\n",
       "      <td>20171016</td>\n",
       "      <td>{'browser': 'Chrome', 'browserVersion': 'not a...</td>\n",
       "      <td>0875141984250977091</td>\n",
       "      <td>{'continent': 'Asia', 'subContinent': 'Eastern...</td>\n",
       "      <td>[{'hitNumber': '1', 'time': '0', 'hour': '23',...</td>\n",
       "      <td>Not Socially Engaged</td>\n",
       "      <td>{'visits': '1', 'hits': '2', 'pageviews': '2',...</td>\n",
       "      <td>{'campaign': '(not set)', 'source': 'google', ...</td>\n",
       "      <td>1508223135</td>\n",
       "      <td>1</td>\n",
       "      <td>1508223135</td>\n",
       "    </tr>\n",
       "    <tr>\n",
       "      <th>3</th>\n",
       "      <td>Organic Search</td>\n",
       "      <td>[{'index': '4', 'value': 'APAC'}]</td>\n",
       "      <td>20171016</td>\n",
       "      <td>{'browser': 'Chrome', 'browserVersion': 'not a...</td>\n",
       "      <td>7979131263881451334</td>\n",
       "      <td>{'continent': 'Asia', 'subContinent': 'Souther...</td>\n",
       "      <td>[{'hitNumber': '1', 'time': '0', 'hour': '12',...</td>\n",
       "      <td>Not Socially Engaged</td>\n",
       "      <td>{'visits': '1', 'hits': '2', 'pageviews': '2',...</td>\n",
       "      <td>{'campaign': '(not set)', 'source': 'google', ...</td>\n",
       "      <td>1508183432</td>\n",
       "      <td>1</td>\n",
       "      <td>1508183432</td>\n",
       "    </tr>\n",
       "    <tr>\n",
       "      <th>4</th>\n",
       "      <td>Organic Search</td>\n",
       "      <td>[{'index': '4', 'value': 'EMEA'}]</td>\n",
       "      <td>20171016</td>\n",
       "      <td>{'browser': 'Chrome', 'browserVersion': 'not a...</td>\n",
       "      <td>451521411412093630</td>\n",
       "      <td>{'continent': 'Europe', 'subContinent': 'Weste...</td>\n",
       "      <td>[{'hitNumber': '1', 'time': '0', 'hour': '6', ...</td>\n",
       "      <td>Not Socially Engaged</td>\n",
       "      <td>{'visits': '1', 'hits': '2', 'pageviews': '2',...</td>\n",
       "      <td>{'campaign': '(not set)', 'source': 'google', ...</td>\n",
       "      <td>1508160016</td>\n",
       "      <td>3</td>\n",
       "      <td>1508160016</td>\n",
       "    </tr>\n",
       "  </tbody>\n",
       "</table>\n",
       "</div>"
      ],
      "text/plain": [
       "  channelGrouping                            customDimensions      date  \\\n",
       "0  Organic Search  [{'index': '4', 'value': 'North America'}]  20171016   \n",
       "1  Organic Search           [{'index': '4', 'value': 'EMEA'}]  20171016   \n",
       "2  Organic Search           [{'index': '4', 'value': 'APAC'}]  20171016   \n",
       "3  Organic Search           [{'index': '4', 'value': 'APAC'}]  20171016   \n",
       "4  Organic Search           [{'index': '4', 'value': 'EMEA'}]  20171016   \n",
       "\n",
       "                                              device        fullVisitorId  \\\n",
       "0  {'browser': 'Safari', 'browserVersion': 'not a...  5983987899933814948   \n",
       "1  {'browser': 'Chrome', 'browserVersion': 'not a...  2631312367160271984   \n",
       "2  {'browser': 'Chrome', 'browserVersion': 'not a...  0875141984250977091   \n",
       "3  {'browser': 'Chrome', 'browserVersion': 'not a...  7979131263881451334   \n",
       "4  {'browser': 'Chrome', 'browserVersion': 'not a...   451521411412093630   \n",
       "\n",
       "                                          geoNetwork  \\\n",
       "0  {'continent': 'Americas', 'subContinent': 'Nor...   \n",
       "1  {'continent': 'Europe', 'subContinent': 'North...   \n",
       "2  {'continent': 'Asia', 'subContinent': 'Eastern...   \n",
       "3  {'continent': 'Asia', 'subContinent': 'Souther...   \n",
       "4  {'continent': 'Europe', 'subContinent': 'Weste...   \n",
       "\n",
       "                                                hits  socialEngagementType  \\\n",
       "0  [{'hitNumber': '1', 'time': '0', 'hour': '11',...  Not Socially Engaged   \n",
       "1  [{'hitNumber': '1', 'time': '0', 'hour': '9', ...  Not Socially Engaged   \n",
       "2  [{'hitNumber': '1', 'time': '0', 'hour': '23',...  Not Socially Engaged   \n",
       "3  [{'hitNumber': '1', 'time': '0', 'hour': '12',...  Not Socially Engaged   \n",
       "4  [{'hitNumber': '1', 'time': '0', 'hour': '6', ...  Not Socially Engaged   \n",
       "\n",
       "                                              totals  \\\n",
       "0  {'visits': '1', 'hits': '2', 'pageviews': '2',...   \n",
       "1  {'visits': '1', 'hits': '2', 'pageviews': '2',...   \n",
       "2  {'visits': '1', 'hits': '2', 'pageviews': '2',...   \n",
       "3  {'visits': '1', 'hits': '2', 'pageviews': '2',...   \n",
       "4  {'visits': '1', 'hits': '2', 'pageviews': '2',...   \n",
       "\n",
       "                                       trafficSource     visitId  visitNumber  \\\n",
       "0  {'campaign': '(not set)', 'source': 'google', ...  1508177658            1   \n",
       "1  {'campaign': '(not set)', 'source': 'google', ...  1508170914            1   \n",
       "2  {'campaign': '(not set)', 'source': 'google', ...  1508223135            1   \n",
       "3  {'campaign': '(not set)', 'source': 'google', ...  1508183432            1   \n",
       "4  {'campaign': '(not set)', 'source': 'google', ...  1508160016            3   \n",
       "\n",
       "   visitStartTime  \n",
       "0      1508177658  \n",
       "1      1508170914  \n",
       "2      1508223135  \n",
       "3      1508183432  \n",
       "4      1508160016  "
      ]
     },
     "execution_count": 6,
     "metadata": {},
     "output_type": "execute_result"
    }
   ],
   "source": [
    "df.head()"
   ]
  },
  {
   "cell_type": "markdown",
   "metadata": {},
   "source": [
    "# Convert the json fields to columns"
   ]
  },
  {
   "cell_type": "code",
   "execution_count": 7,
   "metadata": {},
   "outputs": [],
   "source": [
    "\n",
    "df=pd.concat([df, df['device'].apply(pd.Series)], axis=1)\n",
    "df=pd.concat([df, df['geoNetwork'].apply(pd.Series)], axis=1)\n",
    "df=pd.concat([df, df['totals'].apply(pd.Series)], axis=1)\n",
    "df=pd.concat([df, df['trafficSource'].apply(pd.Series)], axis=1)\n",
    "df=pd.concat([df, df['adwordsClickInfo'].apply(pd.Series)], axis=1)"
   ]
  },
  {
   "cell_type": "code",
   "execution_count": 8,
   "metadata": {},
   "outputs": [],
   "source": [
    "\n",
    "test_df=pd.concat([test_df, test_df['device'].apply(pd.Series)], axis=1)\n",
    "test_df=pd.concat([test_df,test_df['geoNetwork'].apply(pd.Series)], axis=1)\n",
    "test_df=pd.concat([test_df, test_df['totals'].apply(pd.Series)], axis=1)\n",
    "test_df=pd.concat([test_df, test_df['trafficSource'].apply(pd.Series)], axis=1)\n",
    "test_df=pd.concat([test_df, test_df['adwordsClickInfo'].apply(pd.Series)], axis=1)"
   ]
  },
  {
   "cell_type": "code",
   "execution_count": 9,
   "metadata": {},
   "outputs": [],
   "source": [
    "pd.set_option('display.max_columns', None)"
   ]
  },
  {
   "cell_type": "code",
   "execution_count": 10,
   "metadata": {},
   "outputs": [
    {
     "name": "stdout",
     "output_type": "stream",
     "text": [
      "<class 'pandas.core.frame.DataFrame'>\n",
      "RangeIndex: 351368 entries, 0 to 351367\n",
      "Data columns (total 65 columns):\n",
      " #   Column                     Non-Null Count   Dtype \n",
      "---  ------                     --------------   ----- \n",
      " 0   channelGrouping            351368 non-null  object\n",
      " 1   customDimensions           351368 non-null  object\n",
      " 2   date                       351368 non-null  int64 \n",
      " 3   device                     351368 non-null  object\n",
      " 4   fullVisitorId              351368 non-null  object\n",
      " 5   geoNetwork                 351368 non-null  object\n",
      " 6   hits                       351368 non-null  object\n",
      " 7   socialEngagementType       351368 non-null  object\n",
      " 8   totals                     351368 non-null  object\n",
      " 9   trafficSource              351368 non-null  object\n",
      " 10  visitId                    351368 non-null  int64 \n",
      " 11  visitNumber                351368 non-null  int64 \n",
      " 12  visitStartTime             351368 non-null  int64 \n",
      " 13  browser                    351368 non-null  object\n",
      " 14  browserVersion             351368 non-null  object\n",
      " 15  browserSize                351368 non-null  object\n",
      " 16  operatingSystem            351368 non-null  object\n",
      " 17  operatingSystemVersion     351368 non-null  object\n",
      " 18  isMobile                   351368 non-null  bool  \n",
      " 19  mobileDeviceBranding       351368 non-null  object\n",
      " 20  mobileDeviceModel          351368 non-null  object\n",
      " 21  mobileInputSelector        351368 non-null  object\n",
      " 22  mobileDeviceInfo           351368 non-null  object\n",
      " 23  mobileDeviceMarketingName  351368 non-null  object\n",
      " 24  flashVersion               351368 non-null  object\n",
      " 25  language                   351368 non-null  object\n",
      " 26  screenColors               351368 non-null  object\n",
      " 27  screenResolution           351368 non-null  object\n",
      " 28  deviceCategory             351368 non-null  object\n",
      " 29  continent                  351368 non-null  object\n",
      " 30  subContinent               351368 non-null  object\n",
      " 31  country                    351368 non-null  object\n",
      " 32  region                     351368 non-null  object\n",
      " 33  metro                      351368 non-null  object\n",
      " 34  city                       351368 non-null  object\n",
      " 35  cityId                     351368 non-null  object\n",
      " 36  networkDomain              351368 non-null  object\n",
      " 37  latitude                   351368 non-null  object\n",
      " 38  longitude                  351368 non-null  object\n",
      " 39  networkLocation            351368 non-null  object\n",
      " 40  visits                     351368 non-null  object\n",
      " 41  hits                       351368 non-null  object\n",
      " 42  pageviews                  351327 non-null  object\n",
      " 43  timeOnSite                 171244 non-null  object\n",
      " 44  newVisits                  269278 non-null  object\n",
      " 45  sessionQualityDim          179468 non-null  object\n",
      " 46  transactions               3756 non-null    object\n",
      " 47  transactionRevenue         3742 non-null    object\n",
      " 48  totalTransactionRevenue    3742 non-null    object\n",
      " 49  bounces                    179541 non-null  object\n",
      " 50  campaign                   351368 non-null  object\n",
      " 51  source                     351368 non-null  object\n",
      " 52  medium                     351368 non-null  object\n",
      " 53  keyword                    135014 non-null  object\n",
      " 54  adwordsClickInfo           351368 non-null  object\n",
      " 55  isTrueDirect               109619 non-null  object\n",
      " 56  referralPath               116434 non-null  object\n",
      " 57  adContent                  13355 non-null   object\n",
      " 58  criteriaParameters         351368 non-null  object\n",
      " 59  page                       15528 non-null   object\n",
      " 60  slot                       15528 non-null   object\n",
      " 61  gclId                      15554 non-null   object\n",
      " 62  adNetworkType              15528 non-null   object\n",
      " 63  isVideoAd                  15528 non-null   object\n",
      " 64  targetingCriteria          680 non-null     object\n",
      "dtypes: bool(1), int64(4), object(60)\n",
      "memory usage: 171.9+ MB\n",
      "<class 'pandas.core.frame.DataFrame'>\n",
      "RangeIndex: 401589 entries, 0 to 401588\n",
      "Data columns (total 65 columns):\n",
      " #   Column                     Non-Null Count   Dtype \n",
      "---  ------                     --------------   ----- \n",
      " 0   channelGrouping            401589 non-null  object\n",
      " 1   customDimensions           401589 non-null  object\n",
      " 2   date                       401589 non-null  int64 \n",
      " 3   device                     401589 non-null  object\n",
      " 4   fullVisitorId              401589 non-null  object\n",
      " 5   geoNetwork                 401589 non-null  object\n",
      " 6   hits                       401589 non-null  object\n",
      " 7   socialEngagementType       401589 non-null  object\n",
      " 8   totals                     401589 non-null  object\n",
      " 9   trafficSource              401589 non-null  object\n",
      " 10  visitId                    401589 non-null  int64 \n",
      " 11  visitNumber                401589 non-null  int64 \n",
      " 12  visitStartTime             401589 non-null  int64 \n",
      " 13  browser                    401589 non-null  object\n",
      " 14  browserVersion             401589 non-null  object\n",
      " 15  browserSize                401589 non-null  object\n",
      " 16  operatingSystem            401589 non-null  object\n",
      " 17  operatingSystemVersion     401589 non-null  object\n",
      " 18  isMobile                   401589 non-null  bool  \n",
      " 19  mobileDeviceBranding       401589 non-null  object\n",
      " 20  mobileDeviceModel          401589 non-null  object\n",
      " 21  mobileInputSelector        401589 non-null  object\n",
      " 22  mobileDeviceInfo           401589 non-null  object\n",
      " 23  mobileDeviceMarketingName  401589 non-null  object\n",
      " 24  flashVersion               401589 non-null  object\n",
      " 25  language                   401589 non-null  object\n",
      " 26  screenColors               401589 non-null  object\n",
      " 27  screenResolution           401589 non-null  object\n",
      " 28  deviceCategory             401589 non-null  object\n",
      " 29  continent                  401589 non-null  object\n",
      " 30  subContinent               401589 non-null  object\n",
      " 31  country                    401589 non-null  object\n",
      " 32  region                     401589 non-null  object\n",
      " 33  metro                      401589 non-null  object\n",
      " 34  city                       401589 non-null  object\n",
      " 35  cityId                     401589 non-null  object\n",
      " 36  networkDomain              401589 non-null  object\n",
      " 37  latitude                   401589 non-null  object\n",
      " 38  longitude                  401589 non-null  object\n",
      " 39  networkLocation            401589 non-null  object\n",
      " 40  visits                     401589 non-null  object\n",
      " 41  hits                       401589 non-null  object\n",
      " 42  pageviews                  401488 non-null  object\n",
      " 43  timeOnSite                 217903 non-null  object\n",
      " 44  sessionQualityDim          401589 non-null  object\n",
      " 45  newVisits                  286065 non-null  object\n",
      " 46  transactions               6305 non-null    object\n",
      " 47  transactionRevenue         4594 non-null    object\n",
      " 48  totalTransactionRevenue    4594 non-null    object\n",
      " 49  bounces                    182678 non-null  object\n",
      " 50  referralPath               401589 non-null  object\n",
      " 51  campaign                   401589 non-null  object\n",
      " 52  source                     401589 non-null  object\n",
      " 53  medium                     401589 non-null  object\n",
      " 54  keyword                    361363 non-null  object\n",
      " 55  adContent                  401589 non-null  object\n",
      " 56  adwordsClickInfo           401589 non-null  object\n",
      " 57  isTrueDirect               148409 non-null  object\n",
      " 58  criteriaParameters         401589 non-null  object\n",
      " 59  page                       10605 non-null   object\n",
      " 60  slot                       10605 non-null   object\n",
      " 61  gclId                      10612 non-null   object\n",
      " 62  adNetworkType              10605 non-null   object\n",
      " 63  targetingCriteria          508 non-null     object\n",
      " 64  isVideoAd                  10605 non-null   object\n",
      "dtypes: bool(1), int64(4), object(60)\n",
      "memory usage: 196.5+ MB\n"
     ]
    }
   ],
   "source": [
    "df.info()\n",
    "test_df.info()"
   ]
  },
  {
   "cell_type": "code",
   "execution_count": 11,
   "metadata": {},
   "outputs": [
    {
     "name": "stdout",
     "output_type": "stream",
     "text": [
      "set()\n",
      "set()\n"
     ]
    }
   ],
   "source": [
    "missing_cols_in_test = set( df.columns ) - set( test_df.columns )\n",
    "print(missing_cols_in_test)\n",
    "missing_cols_in_train = set( test_df.columns ) - set( df.columns )\n",
    "print(missing_cols_in_train)"
   ]
  },
  {
   "cell_type": "markdown",
   "metadata": {},
   "source": [
    "# Visualisation for getting better idea of the fields"
   ]
  },
  {
   "cell_type": "markdown",
   "metadata": {},
   "source": [
    "# Renaming hits - as there are 2 columns for 'hits'"
   ]
  },
  {
   "cell_type": "code",
   "execution_count": 12,
   "metadata": {},
   "outputs": [],
   "source": [
    "cols = []\n",
    "count =1 \n",
    "for column in df.columns:\n",
    "    \n",
    "    if column == 'hits':\n",
    "        cols.append(f'hits_{count}')\n",
    "        count+=1\n",
    "    else:\n",
    "        cols.append(column)\n",
    "df.columns = cols"
   ]
  },
  {
   "cell_type": "code",
   "execution_count": 13,
   "metadata": {},
   "outputs": [],
   "source": [
    "cols = []\n",
    "count =1 \n",
    "for column in test_df.columns:\n",
    "    \n",
    "    if column == 'hits':\n",
    "        cols.append(f'hits_{count}')\n",
    "        count+=1\n",
    "    else:\n",
    "        cols.append(column)\n",
    "test_df.columns = cols\n"
   ]
  },
  {
   "cell_type": "code",
   "execution_count": 14,
   "metadata": {},
   "outputs": [],
   "source": [
    "df['hits_2']=df['hits_2'].astype('int32')"
   ]
  },
  {
   "cell_type": "code",
   "execution_count": 15,
   "metadata": {},
   "outputs": [],
   "source": [
    "test_df['hits_2']=test_df['hits_2'].astype('int32')"
   ]
  },
  {
   "cell_type": "code",
   "execution_count": 16,
   "metadata": {},
   "outputs": [],
   "source": [
    "# copying to avoid redoing the above steps \n",
    "df1 = df.copy()\n",
    "df2=test_df.copy()"
   ]
  },
  {
   "cell_type": "markdown",
   "metadata": {},
   "source": [
    "# Checking unique values for columns and drop where value=1"
   ]
  },
  {
   "cell_type": "code",
   "execution_count": 17,
   "metadata": {},
   "outputs": [],
   "source": [
    "for col in df.columns:\n",
    "    #print(col,type(col))\n",
    "    if col in ['device','geoNetwork','totals','trafficSource','adwordsClickInfo','targetingCriteria'] or df[col].nunique()==1:\n",
    "        #print('number of unique values for', col ,'={}'.format(df[col].nunique()))\n",
    "        df=df.drop(col,axis=1)\n",
    "    "
   ]
  },
  {
   "cell_type": "code",
   "execution_count": 18,
   "metadata": {},
   "outputs": [],
   "source": [
    "for col in test_df.columns:\n",
    "    #print(col,type(col))\n",
    "    if col in ['device','geoNetwork','totals','trafficSource','adwordsClickInfo','targetingCriteria'] or test_df[col].nunique()==1:\n",
    "        #print('number of unique values for', col ,'={}'.format(test_df[col].nunique()))\n",
    "        test_df=test_df.drop(col,axis=1)\n"
   ]
  },
  {
   "cell_type": "code",
   "execution_count": 19,
   "metadata": {},
   "outputs": [
    {
     "data": {
      "text/plain": [
       "[]"
      ]
     },
     "execution_count": 19,
     "metadata": {},
     "output_type": "execute_result"
    }
   ],
   "source": [
    "df.columns[df.isna().all()].tolist()"
   ]
  },
  {
   "cell_type": "code",
   "execution_count": 20,
   "metadata": {},
   "outputs": [
    {
     "data": {
      "text/plain": [
       "[]"
      ]
     },
     "execution_count": 20,
     "metadata": {},
     "output_type": "execute_result"
    }
   ],
   "source": [
    "test_df.columns[test_df.isna().all()].tolist()"
   ]
  },
  {
   "cell_type": "code",
   "execution_count": 21,
   "metadata": {},
   "outputs": [],
   "source": [
    "numeric_features = [\n",
    "'visitNumber','visitStartTime','hits_2','pageviews','timeOnSite','transactions','transactionRevenue','totalTransactionRevenue']\n",
    "for col in numeric_features:\n",
    "    df[col] = df[col].astype('float')\n",
    "    df[col].fillna(0,inplace=True)\n",
    "    \n",
    "    test_df[col] = test_df[col].astype('float')\n",
    "    test_df[col].fillna(0,inplace=True)\n",
    "        "
   ]
  },
  {
   "cell_type": "code",
   "execution_count": null,
   "metadata": {},
   "outputs": [],
   "source": [
    "#replace all empty fields with NaN\n",
    "'''\n",
    "Nulls = ['(not set)', 'not available in demo dataset', '(not provided)', \n",
    "         'unknown.unknown', '/', 'Not Socially Engaged']\n",
    "for null in Nulls:    \n",
    "    df.replace(null, np.nan, inplace=True)\n",
    "    test_df.replace(null, np.nan, inplace=True)\n",
    "    \n",
    "'''"
   ]
  },
  {
   "cell_type": "code",
   "execution_count": null,
   "metadata": {},
   "outputs": [],
   "source": [
    "df.info()"
   ]
  },
  {
   "cell_type": "code",
   "execution_count": 22,
   "metadata": {},
   "outputs": [],
   "source": [
    "df['isMobile'] = df['isMobile'].astype(bool)"
   ]
  },
  {
   "cell_type": "code",
   "execution_count": 23,
   "metadata": {
    "scrolled": true
   },
   "outputs": [
    {
     "name": "stdout",
     "output_type": "stream",
     "text": [
      "Number of instances in train set with non-zero revenue :  3742  and ratio is :  0.010649803055485987\n",
      "Number of unique customers with non-zero revenue :  3581 and the ratio is :  0.011208523611141542\n"
     ]
    }
   ],
   "source": [
    "df[\"transactionRevenue\"].fillna(0, inplace=True)\n",
    "df_notnullrev = (df[\"transactionRevenue\"]>0).sum()\n",
    "\n",
    "df_revpervisitor = df.groupby(\"fullVisitorId\")[\"transactionRevenue\"].sum()\n",
    "\n",
    "df_notnullrev_visitor = df_revpervisitor.where(df_revpervisitor>0).count()\n",
    "print(\"Number of instances in train set with non-zero revenue : \", df_notnullrev, \" and ratio is : \", df_notnullrev / df.shape[0])\n",
    "print(\"Number of unique customers with non-zero revenue : \", df_notnullrev_visitor, \"and the ratio is : \", df_notnullrev_visitor / df_revpervisitor.shape[0])"
   ]
  },
  {
   "cell_type": "code",
   "execution_count": null,
   "metadata": {},
   "outputs": [],
   "source": [
    "for col in df.columns:\n",
    "    print(col, ' has ', len(df[col].unique()),'unique values')"
   ]
  },
  {
   "cell_type": "code",
   "execution_count": 24,
   "metadata": {},
   "outputs": [
    {
     "name": "stdout",
     "output_type": "stream",
     "text": [
      "Number of unique visitors in train set :  319489  out of rows :  351368\n",
      "Number of unique visitors in test set :  309401  out of rows :  401589\n",
      "Number of common visitors in train and test set :  389\n"
     ]
    }
   ],
   "source": [
    "print(\"Number of unique visitors in train set : \",df.fullVisitorId.nunique(), \" out of rows : \",df.shape[0])\n",
    "print(\"Number of unique visitors in test set : \",test_df.fullVisitorId.nunique(), \" out of rows : \",test_df.shape[0])\n",
    "print(\"Number of common visitors in train and test set : \",len(set(df.fullVisitorId.unique()).intersection(set(test_df.fullVisitorId.unique())) ))"
   ]
  },
  {
   "cell_type": "markdown",
   "metadata": {},
   "source": [
    "# Parsing date fields. "
   ]
  },
  {
   "cell_type": "code",
   "execution_count": 26,
   "metadata": {},
   "outputs": [
    {
     "name": "stdout",
     "output_type": "stream",
     "text": [
      "max date in train is  20180430 min date in train is  20160801\n",
      "max date in test is  20181015 min date in test is  20180501\n"
     ]
    }
   ],
   "source": [
    "print('max date in train is ', df['date'].max() ,'min date in train is ',df['date'].min()) # min - 20160801 , max 20180430\n",
    "print('max date in test is ', test_df['date'].max() ,'min date in test is ',test_df['date'].min()) # min - 20160801 , max 20180430\n"
   ]
  },
  {
   "cell_type": "code",
   "execution_count": 27,
   "metadata": {},
   "outputs": [
    {
     "data": {
      "text/html": [
       "<div>\n",
       "<style scoped>\n",
       "    .dataframe tbody tr th:only-of-type {\n",
       "        vertical-align: middle;\n",
       "    }\n",
       "\n",
       "    .dataframe tbody tr th {\n",
       "        vertical-align: top;\n",
       "    }\n",
       "\n",
       "    .dataframe thead th {\n",
       "        text-align: right;\n",
       "    }\n",
       "</style>\n",
       "<table border=\"1\" class=\"dataframe\">\n",
       "  <thead>\n",
       "    <tr style=\"text-align: right;\">\n",
       "      <th></th>\n",
       "      <th>channelGrouping</th>\n",
       "      <th>customDimensions</th>\n",
       "      <th>date</th>\n",
       "      <th>fullVisitorId</th>\n",
       "      <th>hits_1</th>\n",
       "      <th>visitId</th>\n",
       "      <th>visitNumber</th>\n",
       "      <th>visitStartTime</th>\n",
       "      <th>browser</th>\n",
       "      <th>operatingSystem</th>\n",
       "      <th>isMobile</th>\n",
       "      <th>deviceCategory</th>\n",
       "      <th>continent</th>\n",
       "      <th>subContinent</th>\n",
       "      <th>country</th>\n",
       "      <th>region</th>\n",
       "      <th>metro</th>\n",
       "      <th>city</th>\n",
       "      <th>networkDomain</th>\n",
       "      <th>hits_2</th>\n",
       "      <th>pageviews</th>\n",
       "      <th>timeOnSite</th>\n",
       "      <th>sessionQualityDim</th>\n",
       "      <th>transactions</th>\n",
       "      <th>transactionRevenue</th>\n",
       "      <th>totalTransactionRevenue</th>\n",
       "      <th>campaign</th>\n",
       "      <th>source</th>\n",
       "      <th>medium</th>\n",
       "      <th>keyword</th>\n",
       "      <th>referralPath</th>\n",
       "      <th>adContent</th>\n",
       "      <th>page</th>\n",
       "      <th>slot</th>\n",
       "      <th>gclId</th>\n",
       "      <th>adNetworkType</th>\n",
       "    </tr>\n",
       "  </thead>\n",
       "  <tbody>\n",
       "    <tr>\n",
       "      <th>0</th>\n",
       "      <td>Organic Search</td>\n",
       "      <td>[{'index': '4', 'value': 'North America'}]</td>\n",
       "      <td>20171016</td>\n",
       "      <td>5983987899933814948</td>\n",
       "      <td>[{'hitNumber': '1', 'time': '0', 'hour': '11',...</td>\n",
       "      <td>1508177658</td>\n",
       "      <td>1.0</td>\n",
       "      <td>1.508178e+09</td>\n",
       "      <td>Safari</td>\n",
       "      <td>iOS</td>\n",
       "      <td>True</td>\n",
       "      <td>mobile</td>\n",
       "      <td>Americas</td>\n",
       "      <td>Northern America</td>\n",
       "      <td>United States</td>\n",
       "      <td>not available in demo dataset</td>\n",
       "      <td>not available in demo dataset</td>\n",
       "      <td>not available in demo dataset</td>\n",
       "      <td>bhn.net</td>\n",
       "      <td>2.0</td>\n",
       "      <td>2.0</td>\n",
       "      <td>51.0</td>\n",
       "      <td>1</td>\n",
       "      <td>0.0</td>\n",
       "      <td>0.0</td>\n",
       "      <td>0.0</td>\n",
       "      <td>(not set)</td>\n",
       "      <td>google</td>\n",
       "      <td>organic</td>\n",
       "      <td>(not provided)</td>\n",
       "      <td>NaN</td>\n",
       "      <td>NaN</td>\n",
       "      <td>NaN</td>\n",
       "      <td>NaN</td>\n",
       "      <td>NaN</td>\n",
       "      <td>NaN</td>\n",
       "    </tr>\n",
       "    <tr>\n",
       "      <th>1</th>\n",
       "      <td>Organic Search</td>\n",
       "      <td>[{'index': '4', 'value': 'EMEA'}]</td>\n",
       "      <td>20171016</td>\n",
       "      <td>2631312367160271984</td>\n",
       "      <td>[{'hitNumber': '1', 'time': '0', 'hour': '9', ...</td>\n",
       "      <td>1508170914</td>\n",
       "      <td>1.0</td>\n",
       "      <td>1.508171e+09</td>\n",
       "      <td>Chrome</td>\n",
       "      <td>Chrome OS</td>\n",
       "      <td>False</td>\n",
       "      <td>desktop</td>\n",
       "      <td>Europe</td>\n",
       "      <td>Northern Europe</td>\n",
       "      <td>United Kingdom</td>\n",
       "      <td>not available in demo dataset</td>\n",
       "      <td>not available in demo dataset</td>\n",
       "      <td>not available in demo dataset</td>\n",
       "      <td>virginm.net</td>\n",
       "      <td>2.0</td>\n",
       "      <td>2.0</td>\n",
       "      <td>29.0</td>\n",
       "      <td>1</td>\n",
       "      <td>0.0</td>\n",
       "      <td>0.0</td>\n",
       "      <td>0.0</td>\n",
       "      <td>(not set)</td>\n",
       "      <td>google</td>\n",
       "      <td>organic</td>\n",
       "      <td>(not provided)</td>\n",
       "      <td>NaN</td>\n",
       "      <td>NaN</td>\n",
       "      <td>NaN</td>\n",
       "      <td>NaN</td>\n",
       "      <td>NaN</td>\n",
       "      <td>NaN</td>\n",
       "    </tr>\n",
       "    <tr>\n",
       "      <th>2</th>\n",
       "      <td>Organic Search</td>\n",
       "      <td>[{'index': '4', 'value': 'APAC'}]</td>\n",
       "      <td>20171016</td>\n",
       "      <td>0875141984250977091</td>\n",
       "      <td>[{'hitNumber': '1', 'time': '0', 'hour': '23',...</td>\n",
       "      <td>1508223135</td>\n",
       "      <td>1.0</td>\n",
       "      <td>1.508223e+09</td>\n",
       "      <td>Chrome</td>\n",
       "      <td>Linux</td>\n",
       "      <td>False</td>\n",
       "      <td>desktop</td>\n",
       "      <td>Asia</td>\n",
       "      <td>Eastern Asia</td>\n",
       "      <td>Taiwan</td>\n",
       "      <td>not available in demo dataset</td>\n",
       "      <td>not available in demo dataset</td>\n",
       "      <td>not available in demo dataset</td>\n",
       "      <td>nthu.edu.tw</td>\n",
       "      <td>2.0</td>\n",
       "      <td>2.0</td>\n",
       "      <td>31.0</td>\n",
       "      <td>1</td>\n",
       "      <td>0.0</td>\n",
       "      <td>0.0</td>\n",
       "      <td>0.0</td>\n",
       "      <td>(not set)</td>\n",
       "      <td>google</td>\n",
       "      <td>organic</td>\n",
       "      <td>(not provided)</td>\n",
       "      <td>NaN</td>\n",
       "      <td>NaN</td>\n",
       "      <td>NaN</td>\n",
       "      <td>NaN</td>\n",
       "      <td>NaN</td>\n",
       "      <td>NaN</td>\n",
       "    </tr>\n",
       "    <tr>\n",
       "      <th>3</th>\n",
       "      <td>Organic Search</td>\n",
       "      <td>[{'index': '4', 'value': 'APAC'}]</td>\n",
       "      <td>20171016</td>\n",
       "      <td>7979131263881451334</td>\n",
       "      <td>[{'hitNumber': '1', 'time': '0', 'hour': '12',...</td>\n",
       "      <td>1508183432</td>\n",
       "      <td>1.0</td>\n",
       "      <td>1.508183e+09</td>\n",
       "      <td>Chrome</td>\n",
       "      <td>Linux</td>\n",
       "      <td>False</td>\n",
       "      <td>desktop</td>\n",
       "      <td>Asia</td>\n",
       "      <td>Southern Asia</td>\n",
       "      <td>India</td>\n",
       "      <td>not available in demo dataset</td>\n",
       "      <td>not available in demo dataset</td>\n",
       "      <td>not available in demo dataset</td>\n",
       "      <td>ac.in</td>\n",
       "      <td>2.0</td>\n",
       "      <td>2.0</td>\n",
       "      <td>30.0</td>\n",
       "      <td>1</td>\n",
       "      <td>0.0</td>\n",
       "      <td>0.0</td>\n",
       "      <td>0.0</td>\n",
       "      <td>(not set)</td>\n",
       "      <td>google</td>\n",
       "      <td>organic</td>\n",
       "      <td>(not provided)</td>\n",
       "      <td>NaN</td>\n",
       "      <td>NaN</td>\n",
       "      <td>NaN</td>\n",
       "      <td>NaN</td>\n",
       "      <td>NaN</td>\n",
       "      <td>NaN</td>\n",
       "    </tr>\n",
       "    <tr>\n",
       "      <th>4</th>\n",
       "      <td>Organic Search</td>\n",
       "      <td>[{'index': '4', 'value': 'EMEA'}]</td>\n",
       "      <td>20171016</td>\n",
       "      <td>451521411412093630</td>\n",
       "      <td>[{'hitNumber': '1', 'time': '0', 'hour': '6', ...</td>\n",
       "      <td>1508160016</td>\n",
       "      <td>3.0</td>\n",
       "      <td>1.508160e+09</td>\n",
       "      <td>Chrome</td>\n",
       "      <td>Windows</td>\n",
       "      <td>False</td>\n",
       "      <td>desktop</td>\n",
       "      <td>Europe</td>\n",
       "      <td>Western Europe</td>\n",
       "      <td>Belgium</td>\n",
       "      <td>Brussels</td>\n",
       "      <td>(not set)</td>\n",
       "      <td>Ixelles</td>\n",
       "      <td>(not set)</td>\n",
       "      <td>2.0</td>\n",
       "      <td>2.0</td>\n",
       "      <td>571.0</td>\n",
       "      <td>1</td>\n",
       "      <td>0.0</td>\n",
       "      <td>0.0</td>\n",
       "      <td>0.0</td>\n",
       "      <td>(not set)</td>\n",
       "      <td>google</td>\n",
       "      <td>organic</td>\n",
       "      <td>(not provided)</td>\n",
       "      <td>NaN</td>\n",
       "      <td>NaN</td>\n",
       "      <td>NaN</td>\n",
       "      <td>NaN</td>\n",
       "      <td>NaN</td>\n",
       "      <td>NaN</td>\n",
       "    </tr>\n",
       "  </tbody>\n",
       "</table>\n",
       "</div>"
      ],
      "text/plain": [
       "  channelGrouping                            customDimensions      date  \\\n",
       "0  Organic Search  [{'index': '4', 'value': 'North America'}]  20171016   \n",
       "1  Organic Search           [{'index': '4', 'value': 'EMEA'}]  20171016   \n",
       "2  Organic Search           [{'index': '4', 'value': 'APAC'}]  20171016   \n",
       "3  Organic Search           [{'index': '4', 'value': 'APAC'}]  20171016   \n",
       "4  Organic Search           [{'index': '4', 'value': 'EMEA'}]  20171016   \n",
       "\n",
       "         fullVisitorId                                             hits_1  \\\n",
       "0  5983987899933814948  [{'hitNumber': '1', 'time': '0', 'hour': '11',...   \n",
       "1  2631312367160271984  [{'hitNumber': '1', 'time': '0', 'hour': '9', ...   \n",
       "2  0875141984250977091  [{'hitNumber': '1', 'time': '0', 'hour': '23',...   \n",
       "3  7979131263881451334  [{'hitNumber': '1', 'time': '0', 'hour': '12',...   \n",
       "4   451521411412093630  [{'hitNumber': '1', 'time': '0', 'hour': '6', ...   \n",
       "\n",
       "      visitId  visitNumber  visitStartTime browser operatingSystem  isMobile  \\\n",
       "0  1508177658          1.0    1.508178e+09  Safari             iOS      True   \n",
       "1  1508170914          1.0    1.508171e+09  Chrome       Chrome OS     False   \n",
       "2  1508223135          1.0    1.508223e+09  Chrome           Linux     False   \n",
       "3  1508183432          1.0    1.508183e+09  Chrome           Linux     False   \n",
       "4  1508160016          3.0    1.508160e+09  Chrome         Windows     False   \n",
       "\n",
       "  deviceCategory continent      subContinent         country  \\\n",
       "0         mobile  Americas  Northern America   United States   \n",
       "1        desktop    Europe   Northern Europe  United Kingdom   \n",
       "2        desktop      Asia      Eastern Asia          Taiwan   \n",
       "3        desktop      Asia     Southern Asia           India   \n",
       "4        desktop    Europe    Western Europe         Belgium   \n",
       "\n",
       "                          region                          metro  \\\n",
       "0  not available in demo dataset  not available in demo dataset   \n",
       "1  not available in demo dataset  not available in demo dataset   \n",
       "2  not available in demo dataset  not available in demo dataset   \n",
       "3  not available in demo dataset  not available in demo dataset   \n",
       "4                       Brussels                      (not set)   \n",
       "\n",
       "                            city networkDomain  hits_2  pageviews  timeOnSite  \\\n",
       "0  not available in demo dataset       bhn.net     2.0        2.0        51.0   \n",
       "1  not available in demo dataset   virginm.net     2.0        2.0        29.0   \n",
       "2  not available in demo dataset   nthu.edu.tw     2.0        2.0        31.0   \n",
       "3  not available in demo dataset         ac.in     2.0        2.0        30.0   \n",
       "4                        Ixelles     (not set)     2.0        2.0       571.0   \n",
       "\n",
       "  sessionQualityDim  transactions  transactionRevenue  \\\n",
       "0                 1           0.0                 0.0   \n",
       "1                 1           0.0                 0.0   \n",
       "2                 1           0.0                 0.0   \n",
       "3                 1           0.0                 0.0   \n",
       "4                 1           0.0                 0.0   \n",
       "\n",
       "   totalTransactionRevenue   campaign  source   medium         keyword  \\\n",
       "0                      0.0  (not set)  google  organic  (not provided)   \n",
       "1                      0.0  (not set)  google  organic  (not provided)   \n",
       "2                      0.0  (not set)  google  organic  (not provided)   \n",
       "3                      0.0  (not set)  google  organic  (not provided)   \n",
       "4                      0.0  (not set)  google  organic  (not provided)   \n",
       "\n",
       "  referralPath adContent page slot gclId adNetworkType  \n",
       "0          NaN       NaN  NaN  NaN   NaN           NaN  \n",
       "1          NaN       NaN  NaN  NaN   NaN           NaN  \n",
       "2          NaN       NaN  NaN  NaN   NaN           NaN  \n",
       "3          NaN       NaN  NaN  NaN   NaN           NaN  \n",
       "4          NaN       NaN  NaN  NaN   NaN           NaN  "
      ]
     },
     "execution_count": 27,
     "metadata": {},
     "output_type": "execute_result"
    }
   ],
   "source": [
    "df.head()"
   ]
  },
  {
   "cell_type": "code",
   "execution_count": null,
   "metadata": {},
   "outputs": [],
   "source": [
    "# Need to fix the customdimension error .. not able to parse it as a dictionary\n",
    "\n",
    "df['customDimensions_1'] = df['customDimensions']\n",
    "df['customDimensions_1'] = df['customDimensions_1'].replace(\"'\", \"\\\"\")\n",
    "df['customDimensions_1']=df['customDimensions_1'].str.replace(']', '', regex=False)\n",
    "df['customDimensions_1']=df['customDimensions_1'].str.replace('[', '', regex=False)\n",
    "\n",
    "#df=pd.concat([df, ast.literal_eval(df['customDimensions_1'].apply(pd.Series))], axis=1)\n"
   ]
  },
  {
   "cell_type": "code",
   "execution_count": 28,
   "metadata": {},
   "outputs": [],
   "source": [
    "df['date_cd'] = pd.to_datetime(df['date'].astype(str), format='%Y%m%d')\n"
   ]
  },
  {
   "cell_type": "code",
   "execution_count": 29,
   "metadata": {},
   "outputs": [],
   "source": [
    "test_df['date_cd'] = pd.to_datetime(test_df['date'].astype(str), format='%Y%m%d')\n"
   ]
  },
  {
   "cell_type": "code",
   "execution_count": 30,
   "metadata": {},
   "outputs": [],
   "source": [
    "# convert the time to datetime\n",
    "df['datetime_visitStartTime'] = pd.to_datetime(df['visitStartTime'],unit='s')"
   ]
  },
  {
   "cell_type": "code",
   "execution_count": 31,
   "metadata": {},
   "outputs": [],
   "source": [
    "# convert the time to datetime\n",
    "test_df['datetime_visitStartTime'] = pd.to_datetime(test_df['visitStartTime'],unit='s')"
   ]
  },
  {
   "cell_type": "code",
   "execution_count": 32,
   "metadata": {},
   "outputs": [
    {
     "name": "stdout",
     "output_type": "stream",
     "text": [
      "(351368, 38)\n",
      "(401589, 38)\n"
     ]
    }
   ],
   "source": [
    "print(df.shape)\n",
    "print(test_df.shape)"
   ]
  },
  {
   "cell_type": "code",
   "execution_count": 33,
   "metadata": {
    "scrolled": true
   },
   "outputs": [
    {
     "name": "stdout",
     "output_type": "stream",
     "text": [
      "Index(['date', 'visitId', 'visitNumber', 'visitStartTime', 'hits_2',\n",
      "       'pageviews', 'timeOnSite', 'transactions', 'transactionRevenue',\n",
      "       'totalTransactionRevenue'],\n",
      "      dtype='object')\n",
      "Index(['channelGrouping', 'customDimensions', 'fullVisitorId', 'hits_1',\n",
      "       'browser', 'operatingSystem', 'deviceCategory', 'continent',\n",
      "       'subContinent', 'country', 'region', 'metro', 'city', 'networkDomain',\n",
      "       'sessionQualityDim', 'campaign', 'source', 'medium', 'keyword',\n",
      "       'referralPath', 'adContent', 'page', 'slot', 'gclId', 'adNetworkType'],\n",
      "      dtype='object')\n"
     ]
    }
   ],
   "source": [
    "numeric_train_ds = df.select_dtypes(include=[np.number])\n",
    "print(numeric_train_ds.columns)\n",
    "\n",
    "categorical_train_ds=df.select_dtypes(include=[np.object])\n",
    "print(categorical_train_ds.columns)\n"
   ]
  },
  {
   "cell_type": "code",
   "execution_count": 34,
   "metadata": {},
   "outputs": [
    {
     "data": {
      "image/png": "[encoded data removed]",
      "text/plain": [
       "<Figure size 432x288 with 1 Axes>"
      ]
     },
     "metadata": {
      "needs_background": "light"
     },
     "output_type": "display_data"
    }
   ],
   "source": [
    "sns.heatmap(df.isnull(),yticklabels=False,cbar=False,cmap='viridis')\n",
    "sns.set_style('whitegrid')\n"
   ]
  },
  {
   "cell_type": "code",
   "execution_count": 35,
   "metadata": {},
   "outputs": [],
   "source": [
    "# creating a derived column to get unique ID for each row. UniqieID is unique for a user\n",
    "df[\"fullVisitorId_visitId\"] = df[\"fullVisitorId\"].astype(str) + df[\"visitId\"].astype(str)\n",
    "# creating a derived column to get unique ID for each row. UniqieID is unique for a user\n",
    "test_df[\"fullVisitorId_visitId\"] = test_df[\"fullVisitorId\"].astype(str) + test_df[\"visitId\"].astype(str)"
   ]
  },
  {
   "cell_type": "code",
   "execution_count": 36,
   "metadata": {},
   "outputs": [
    {
     "data": {
      "text/plain": [
       "Organic Search    152276\n",
       "Social             72920\n",
       "Direct             55892\n",
       "Referral           43517\n",
       "Display            10544\n",
       "Paid Search         9375\n",
       "Affiliates          6818\n",
       "(Other)               26\n",
       "Name: channelGrouping, dtype: int64"
      ]
     },
     "execution_count": 36,
     "metadata": {},
     "output_type": "execute_result"
    }
   ],
   "source": [
    "df['channelGrouping'].value_counts()"
   ]
  },
  {
   "cell_type": "code",
   "execution_count": 37,
   "metadata": {},
   "outputs": [
    {
     "data": {
      "text/html": [
       "<div>\n",
       "<style scoped>\n",
       "    .dataframe tbody tr th:only-of-type {\n",
       "        vertical-align: middle;\n",
       "    }\n",
       "\n",
       "    .dataframe tbody tr th {\n",
       "        vertical-align: top;\n",
       "    }\n",
       "\n",
       "    .dataframe thead th {\n",
       "        text-align: right;\n",
       "    }\n",
       "</style>\n",
       "<table border=\"1\" class=\"dataframe\">\n",
       "  <thead>\n",
       "    <tr style=\"text-align: right;\">\n",
       "      <th></th>\n",
       "      <th>percentage</th>\n",
       "    </tr>\n",
       "    <tr>\n",
       "      <th>channelGrouping</th>\n",
       "      <th></th>\n",
       "    </tr>\n",
       "  </thead>\n",
       "  <tbody>\n",
       "    <tr>\n",
       "      <th>(Other)</th>\n",
       "      <td>0.00</td>\n",
       "    </tr>\n",
       "    <tr>\n",
       "      <th>Affiliates</th>\n",
       "      <td>0.01</td>\n",
       "    </tr>\n",
       "    <tr>\n",
       "      <th>Direct</th>\n",
       "      <td>29.63</td>\n",
       "    </tr>\n",
       "    <tr>\n",
       "      <th>Display</th>\n",
       "      <td>3.16</td>\n",
       "    </tr>\n",
       "    <tr>\n",
       "      <th>Organic Search</th>\n",
       "      <td>22.11</td>\n",
       "    </tr>\n",
       "    <tr>\n",
       "      <th>Paid Search</th>\n",
       "      <td>2.73</td>\n",
       "    </tr>\n",
       "    <tr>\n",
       "      <th>Referral</th>\n",
       "      <td>41.96</td>\n",
       "    </tr>\n",
       "    <tr>\n",
       "      <th>Social</th>\n",
       "      <td>0.39</td>\n",
       "    </tr>\n",
       "  </tbody>\n",
       "</table>\n",
       "</div>"
      ],
      "text/plain": [
       "                 percentage\n",
       "channelGrouping            \n",
       "(Other)                0.00\n",
       "Affiliates             0.01\n",
       "Direct                29.63\n",
       "Display                3.16\n",
       "Organic Search        22.11\n",
       "Paid Search            2.73\n",
       "Referral              41.96\n",
       "Social                 0.39"
      ]
     },
     "execution_count": 37,
     "metadata": {},
     "output_type": "execute_result"
    }
   ],
   "source": [
    "#Pie Chart for the Transaction Revenue based on Channel Grouping\n",
    "data = df.groupby(\"channelGrouping\")[\"transactionRevenue\"].sum()\n",
    "data_per = data.groupby('channelGrouping').agg(percentage =('transactionRevenue', lambda p: p.sum() / data.sum() * 100)).round(2)\n",
    "data_per"
   ]
  },
  {
   "cell_type": "code",
   "execution_count": 38,
   "metadata": {},
   "outputs": [
    {
     "data": {
      "image/png": "[encoded data removed]",
      "text/plain": [
       "<Figure size 720x432 with 1 Axes>"
      ]
     },
     "metadata": {},
     "output_type": "display_data"
    }
   ],
   "source": [
    "#Seaborn barplot\n",
    "sns.set_style(\"whitegrid\")\n",
    "bar,ax = plt.subplots(figsize=(10,6))\n",
    "ax = sns.barplot(x=data_per.index, y='percentage', data=data_per, ci=None, palette=\"muted\",orient='v', )\n",
    "ax.set_title(\"Pie chart approximation in Seaborn - Total Transanction Revenue by Channel\", fontsize=15)\n",
    "ax.set_xlabel (\"Channel Grouping\")\n",
    "ax.set_ylabel (\"Percentage\")\n",
    "# calculate the percentages and annotate the sns barplot\n",
    "for rect in ax.patches:\n",
    "    ax.text (rect.get_x() + rect.get_width() / 2,rect.get_height(),\"%.1f%%\"% rect.get_height(), weight='bold' )\n",
    "bar.savefig(\"Seaborn_Pie_Chart.png\");"
   ]
  },
  {
   "cell_type": "code",
   "execution_count": 39,
   "metadata": {},
   "outputs": [
    {
     "name": "stdout",
     "output_type": "stream",
     "text": [
      "Index(['(Other)', 'Affiliates', 'Direct', 'Display', 'Organic Search',\n",
      "       'Paid Search', 'Referral', 'Social'],\n",
      "      dtype='object', name='channelGrouping')\n"
     ]
    },
    {
     "data": {
      "image/png": "[encoded data removed]",
      "text/plain": [
       "<Figure size 720x432 with 1 Axes>"
      ]
     },
     "metadata": {},
     "output_type": "display_data"
    }
   ],
   "source": [
    "pie, ax = plt.subplots(figsize=[10,6])\n",
    "labels = data.keys()\n",
    "print(labels)\n",
    "#data.plot.pie( autopct=\"%.1f%%\")\n",
    "ax.pie(x=data, autopct=\"%.1f%%\", explode=[0.1]*data.count(), labels=labels)\n",
    "plt.show()"
   ]
  },
  {
   "cell_type": "markdown",
   "metadata": {},
   "source": [
    "# Analyst the date time fields"
   ]
  },
  {
   "cell_type": "code",
   "execution_count": 40,
   "metadata": {},
   "outputs": [],
   "source": [
    "#getattr(df['date_cd'].dt,'year')\n",
    "attributes = ['year','month','day','dayofweek','dayofyear','daysinmonth','freqstr','quarter']\n",
    "\n",
    "for a in attributes:\n",
    "    df['date_'+ a] = df[\"date_cd\"].apply(lambda x : getattr(x, a))\n",
    "    test_df['date_'+ a] = test_df[\"date_cd\"].apply(lambda x : getattr(x, a))\n",
    "    \n",
    "    "
   ]
  },
  {
   "cell_type": "code",
   "execution_count": 41,
   "metadata": {},
   "outputs": [],
   "source": [
    "#df.sort_values(by=['transactionRevenue'],ascending=False).head()\n",
    "# To retrive a particular record based on a value\n",
    "#df1.loc[df1['fullVisitorId_visitId']=='19574589762938781001491423580']\n",
    "df['date_yearmonth'] =df['date_year'].astype(str) +'_' + df['date_month'].astype(str) \n",
    "test_df['date_yearmonth'] =test_df['date_year'].astype(str) +'_' + test_df['date_month'].astype(str) "
   ]
  },
  {
   "cell_type": "code",
   "execution_count": 42,
   "metadata": {},
   "outputs": [
    {
     "data": {
      "text/html": [
       "<div>\n",
       "<style scoped>\n",
       "    .dataframe tbody tr th:only-of-type {\n",
       "        vertical-align: middle;\n",
       "    }\n",
       "\n",
       "    .dataframe tbody tr th {\n",
       "        vertical-align: top;\n",
       "    }\n",
       "\n",
       "    .dataframe thead th {\n",
       "        text-align: right;\n",
       "    }\n",
       "</style>\n",
       "<table border=\"1\" class=\"dataframe\">\n",
       "  <thead>\n",
       "    <tr style=\"text-align: right;\">\n",
       "      <th></th>\n",
       "      <th>channelGrouping</th>\n",
       "      <th>customDimensions</th>\n",
       "      <th>date</th>\n",
       "      <th>fullVisitorId</th>\n",
       "      <th>hits_1</th>\n",
       "      <th>visitId</th>\n",
       "      <th>visitNumber</th>\n",
       "      <th>visitStartTime</th>\n",
       "      <th>browser</th>\n",
       "      <th>operatingSystem</th>\n",
       "      <th>isMobile</th>\n",
       "      <th>deviceCategory</th>\n",
       "      <th>continent</th>\n",
       "      <th>subContinent</th>\n",
       "      <th>country</th>\n",
       "      <th>region</th>\n",
       "      <th>metro</th>\n",
       "      <th>city</th>\n",
       "      <th>networkDomain</th>\n",
       "      <th>hits_2</th>\n",
       "      <th>pageviews</th>\n",
       "      <th>timeOnSite</th>\n",
       "      <th>sessionQualityDim</th>\n",
       "      <th>transactions</th>\n",
       "      <th>transactionRevenue</th>\n",
       "      <th>totalTransactionRevenue</th>\n",
       "      <th>campaign</th>\n",
       "      <th>source</th>\n",
       "      <th>medium</th>\n",
       "      <th>keyword</th>\n",
       "      <th>referralPath</th>\n",
       "      <th>adContent</th>\n",
       "      <th>page</th>\n",
       "      <th>slot</th>\n",
       "      <th>gclId</th>\n",
       "      <th>adNetworkType</th>\n",
       "      <th>date_cd</th>\n",
       "      <th>datetime_visitStartTime</th>\n",
       "      <th>fullVisitorId_visitId</th>\n",
       "      <th>date_year</th>\n",
       "      <th>date_month</th>\n",
       "      <th>date_day</th>\n",
       "      <th>date_dayofweek</th>\n",
       "      <th>date_dayofyear</th>\n",
       "      <th>date_daysinmonth</th>\n",
       "      <th>date_freqstr</th>\n",
       "      <th>date_quarter</th>\n",
       "      <th>date_yearmonth</th>\n",
       "    </tr>\n",
       "  </thead>\n",
       "  <tbody>\n",
       "    <tr>\n",
       "      <th>0</th>\n",
       "      <td>Organic Search</td>\n",
       "      <td>[{'index': '4', 'value': 'North America'}]</td>\n",
       "      <td>20171016</td>\n",
       "      <td>5983987899933814948</td>\n",
       "      <td>[{'hitNumber': '1', 'time': '0', 'hour': '11',...</td>\n",
       "      <td>1508177658</td>\n",
       "      <td>1.0</td>\n",
       "      <td>1.508178e+09</td>\n",
       "      <td>Safari</td>\n",
       "      <td>iOS</td>\n",
       "      <td>True</td>\n",
       "      <td>mobile</td>\n",
       "      <td>Americas</td>\n",
       "      <td>Northern America</td>\n",
       "      <td>United States</td>\n",
       "      <td>not available in demo dataset</td>\n",
       "      <td>not available in demo dataset</td>\n",
       "      <td>not available in demo dataset</td>\n",
       "      <td>bhn.net</td>\n",
       "      <td>2.0</td>\n",
       "      <td>2.0</td>\n",
       "      <td>51.0</td>\n",
       "      <td>1</td>\n",
       "      <td>0.0</td>\n",
       "      <td>0.0</td>\n",
       "      <td>0.0</td>\n",
       "      <td>(not set)</td>\n",
       "      <td>google</td>\n",
       "      <td>organic</td>\n",
       "      <td>(not provided)</td>\n",
       "      <td>NaN</td>\n",
       "      <td>NaN</td>\n",
       "      <td>NaN</td>\n",
       "      <td>NaN</td>\n",
       "      <td>NaN</td>\n",
       "      <td>NaN</td>\n",
       "      <td>2017-10-16</td>\n",
       "      <td>2017-10-16 18:14:18</td>\n",
       "      <td>59839878999338149481508177658</td>\n",
       "      <td>2017</td>\n",
       "      <td>10</td>\n",
       "      <td>16</td>\n",
       "      <td>0</td>\n",
       "      <td>289</td>\n",
       "      <td>31</td>\n",
       "      <td>None</td>\n",
       "      <td>4</td>\n",
       "      <td>2017_10</td>\n",
       "    </tr>\n",
       "    <tr>\n",
       "      <th>1</th>\n",
       "      <td>Organic Search</td>\n",
       "      <td>[{'index': '4', 'value': 'EMEA'}]</td>\n",
       "      <td>20171016</td>\n",
       "      <td>2631312367160271984</td>\n",
       "      <td>[{'hitNumber': '1', 'time': '0', 'hour': '9', ...</td>\n",
       "      <td>1508170914</td>\n",
       "      <td>1.0</td>\n",
       "      <td>1.508171e+09</td>\n",
       "      <td>Chrome</td>\n",
       "      <td>Chrome OS</td>\n",
       "      <td>False</td>\n",
       "      <td>desktop</td>\n",
       "      <td>Europe</td>\n",
       "      <td>Northern Europe</td>\n",
       "      <td>United Kingdom</td>\n",
       "      <td>not available in demo dataset</td>\n",
       "      <td>not available in demo dataset</td>\n",
       "      <td>not available in demo dataset</td>\n",
       "      <td>virginm.net</td>\n",
       "      <td>2.0</td>\n",
       "      <td>2.0</td>\n",
       "      <td>29.0</td>\n",
       "      <td>1</td>\n",
       "      <td>0.0</td>\n",
       "      <td>0.0</td>\n",
       "      <td>0.0</td>\n",
       "      <td>(not set)</td>\n",
       "      <td>google</td>\n",
       "      <td>organic</td>\n",
       "      <td>(not provided)</td>\n",
       "      <td>NaN</td>\n",
       "      <td>NaN</td>\n",
       "      <td>NaN</td>\n",
       "      <td>NaN</td>\n",
       "      <td>NaN</td>\n",
       "      <td>NaN</td>\n",
       "      <td>2017-10-16</td>\n",
       "      <td>2017-10-16 16:21:54</td>\n",
       "      <td>26313123671602719841508170914</td>\n",
       "      <td>2017</td>\n",
       "      <td>10</td>\n",
       "      <td>16</td>\n",
       "      <td>0</td>\n",
       "      <td>289</td>\n",
       "      <td>31</td>\n",
       "      <td>None</td>\n",
       "      <td>4</td>\n",
       "      <td>2017_10</td>\n",
       "    </tr>\n",
       "    <tr>\n",
       "      <th>2</th>\n",
       "      <td>Organic Search</td>\n",
       "      <td>[{'index': '4', 'value': 'APAC'}]</td>\n",
       "      <td>20171016</td>\n",
       "      <td>0875141984250977091</td>\n",
       "      <td>[{'hitNumber': '1', 'time': '0', 'hour': '23',...</td>\n",
       "      <td>1508223135</td>\n",
       "      <td>1.0</td>\n",
       "      <td>1.508223e+09</td>\n",
       "      <td>Chrome</td>\n",
       "      <td>Linux</td>\n",
       "      <td>False</td>\n",
       "      <td>desktop</td>\n",
       "      <td>Asia</td>\n",
       "      <td>Eastern Asia</td>\n",
       "      <td>Taiwan</td>\n",
       "      <td>not available in demo dataset</td>\n",
       "      <td>not available in demo dataset</td>\n",
       "      <td>not available in demo dataset</td>\n",
       "      <td>nthu.edu.tw</td>\n",
       "      <td>2.0</td>\n",
       "      <td>2.0</td>\n",
       "      <td>31.0</td>\n",
       "      <td>1</td>\n",
       "      <td>0.0</td>\n",
       "      <td>0.0</td>\n",
       "      <td>0.0</td>\n",
       "      <td>(not set)</td>\n",
       "      <td>google</td>\n",
       "      <td>organic</td>\n",
       "      <td>(not provided)</td>\n",
       "      <td>NaN</td>\n",
       "      <td>NaN</td>\n",
       "      <td>NaN</td>\n",
       "      <td>NaN</td>\n",
       "      <td>NaN</td>\n",
       "      <td>NaN</td>\n",
       "      <td>2017-10-16</td>\n",
       "      <td>2017-10-17 06:52:15</td>\n",
       "      <td>08751419842509770911508223135</td>\n",
       "      <td>2017</td>\n",
       "      <td>10</td>\n",
       "      <td>16</td>\n",
       "      <td>0</td>\n",
       "      <td>289</td>\n",
       "      <td>31</td>\n",
       "      <td>None</td>\n",
       "      <td>4</td>\n",
       "      <td>2017_10</td>\n",
       "    </tr>\n",
       "    <tr>\n",
       "      <th>3</th>\n",
       "      <td>Organic Search</td>\n",
       "      <td>[{'index': '4', 'value': 'APAC'}]</td>\n",
       "      <td>20171016</td>\n",
       "      <td>7979131263881451334</td>\n",
       "      <td>[{'hitNumber': '1', 'time': '0', 'hour': '12',...</td>\n",
       "      <td>1508183432</td>\n",
       "      <td>1.0</td>\n",
       "      <td>1.508183e+09</td>\n",
       "      <td>Chrome</td>\n",
       "      <td>Linux</td>\n",
       "      <td>False</td>\n",
       "      <td>desktop</td>\n",
       "      <td>Asia</td>\n",
       "      <td>Southern Asia</td>\n",
       "      <td>India</td>\n",
       "      <td>not available in demo dataset</td>\n",
       "      <td>not available in demo dataset</td>\n",
       "      <td>not available in demo dataset</td>\n",
       "      <td>ac.in</td>\n",
       "      <td>2.0</td>\n",
       "      <td>2.0</td>\n",
       "      <td>30.0</td>\n",
       "      <td>1</td>\n",
       "      <td>0.0</td>\n",
       "      <td>0.0</td>\n",
       "      <td>0.0</td>\n",
       "      <td>(not set)</td>\n",
       "      <td>google</td>\n",
       "      <td>organic</td>\n",
       "      <td>(not provided)</td>\n",
       "      <td>NaN</td>\n",
       "      <td>NaN</td>\n",
       "      <td>NaN</td>\n",
       "      <td>NaN</td>\n",
       "      <td>NaN</td>\n",
       "      <td>NaN</td>\n",
       "      <td>2017-10-16</td>\n",
       "      <td>2017-10-16 19:50:32</td>\n",
       "      <td>79791312638814513341508183432</td>\n",
       "      <td>2017</td>\n",
       "      <td>10</td>\n",
       "      <td>16</td>\n",
       "      <td>0</td>\n",
       "      <td>289</td>\n",
       "      <td>31</td>\n",
       "      <td>None</td>\n",
       "      <td>4</td>\n",
       "      <td>2017_10</td>\n",
       "    </tr>\n",
       "    <tr>\n",
       "      <th>4</th>\n",
       "      <td>Organic Search</td>\n",
       "      <td>[{'index': '4', 'value': 'EMEA'}]</td>\n",
       "      <td>20171016</td>\n",
       "      <td>451521411412093630</td>\n",
       "      <td>[{'hitNumber': '1', 'time': '0', 'hour': '6', ...</td>\n",
       "      <td>1508160016</td>\n",
       "      <td>3.0</td>\n",
       "      <td>1.508160e+09</td>\n",
       "      <td>Chrome</td>\n",
       "      <td>Windows</td>\n",
       "      <td>False</td>\n",
       "      <td>desktop</td>\n",
       "      <td>Europe</td>\n",
       "      <td>Western Europe</td>\n",
       "      <td>Belgium</td>\n",
       "      <td>Brussels</td>\n",
       "      <td>(not set)</td>\n",
       "      <td>Ixelles</td>\n",
       "      <td>(not set)</td>\n",
       "      <td>2.0</td>\n",
       "      <td>2.0</td>\n",
       "      <td>571.0</td>\n",
       "      <td>1</td>\n",
       "      <td>0.0</td>\n",
       "      <td>0.0</td>\n",
       "      <td>0.0</td>\n",
       "      <td>(not set)</td>\n",
       "      <td>google</td>\n",
       "      <td>organic</td>\n",
       "      <td>(not provided)</td>\n",
       "      <td>NaN</td>\n",
       "      <td>NaN</td>\n",
       "      <td>NaN</td>\n",
       "      <td>NaN</td>\n",
       "      <td>NaN</td>\n",
       "      <td>NaN</td>\n",
       "      <td>2017-10-16</td>\n",
       "      <td>2017-10-16 13:20:16</td>\n",
       "      <td>4515214114120936301508160016</td>\n",
       "      <td>2017</td>\n",
       "      <td>10</td>\n",
       "      <td>16</td>\n",
       "      <td>0</td>\n",
       "      <td>289</td>\n",
       "      <td>31</td>\n",
       "      <td>None</td>\n",
       "      <td>4</td>\n",
       "      <td>2017_10</td>\n",
       "    </tr>\n",
       "  </tbody>\n",
       "</table>\n",
       "</div>"
      ],
      "text/plain": [
       "  channelGrouping                            customDimensions      date  \\\n",
       "0  Organic Search  [{'index': '4', 'value': 'North America'}]  20171016   \n",
       "1  Organic Search           [{'index': '4', 'value': 'EMEA'}]  20171016   \n",
       "2  Organic Search           [{'index': '4', 'value': 'APAC'}]  20171016   \n",
       "3  Organic Search           [{'index': '4', 'value': 'APAC'}]  20171016   \n",
       "4  Organic Search           [{'index': '4', 'value': 'EMEA'}]  20171016   \n",
       "\n",
       "         fullVisitorId                                             hits_1  \\\n",
       "0  5983987899933814948  [{'hitNumber': '1', 'time': '0', 'hour': '11',...   \n",
       "1  2631312367160271984  [{'hitNumber': '1', 'time': '0', 'hour': '9', ...   \n",
       "2  0875141984250977091  [{'hitNumber': '1', 'time': '0', 'hour': '23',...   \n",
       "3  7979131263881451334  [{'hitNumber': '1', 'time': '0', 'hour': '12',...   \n",
       "4   451521411412093630  [{'hitNumber': '1', 'time': '0', 'hour': '6', ...   \n",
       "\n",
       "      visitId  visitNumber  visitStartTime browser operatingSystem  isMobile  \\\n",
       "0  1508177658          1.0    1.508178e+09  Safari             iOS      True   \n",
       "1  1508170914          1.0    1.508171e+09  Chrome       Chrome OS     False   \n",
       "2  1508223135          1.0    1.508223e+09  Chrome           Linux     False   \n",
       "3  1508183432          1.0    1.508183e+09  Chrome           Linux     False   \n",
       "4  1508160016          3.0    1.508160e+09  Chrome         Windows     False   \n",
       "\n",
       "  deviceCategory continent      subContinent         country  \\\n",
       "0         mobile  Americas  Northern America   United States   \n",
       "1        desktop    Europe   Northern Europe  United Kingdom   \n",
       "2        desktop      Asia      Eastern Asia          Taiwan   \n",
       "3        desktop      Asia     Southern Asia           India   \n",
       "4        desktop    Europe    Western Europe         Belgium   \n",
       "\n",
       "                          region                          metro  \\\n",
       "0  not available in demo dataset  not available in demo dataset   \n",
       "1  not available in demo dataset  not available in demo dataset   \n",
       "2  not available in demo dataset  not available in demo dataset   \n",
       "3  not available in demo dataset  not available in demo dataset   \n",
       "4                       Brussels                      (not set)   \n",
       "\n",
       "                            city networkDomain  hits_2  pageviews  timeOnSite  \\\n",
       "0  not available in demo dataset       bhn.net     2.0        2.0        51.0   \n",
       "1  not available in demo dataset   virginm.net     2.0        2.0        29.0   \n",
       "2  not available in demo dataset   nthu.edu.tw     2.0        2.0        31.0   \n",
       "3  not available in demo dataset         ac.in     2.0        2.0        30.0   \n",
       "4                        Ixelles     (not set)     2.0        2.0       571.0   \n",
       "\n",
       "  sessionQualityDim  transactions  transactionRevenue  \\\n",
       "0                 1           0.0                 0.0   \n",
       "1                 1           0.0                 0.0   \n",
       "2                 1           0.0                 0.0   \n",
       "3                 1           0.0                 0.0   \n",
       "4                 1           0.0                 0.0   \n",
       "\n",
       "   totalTransactionRevenue   campaign  source   medium         keyword  \\\n",
       "0                      0.0  (not set)  google  organic  (not provided)   \n",
       "1                      0.0  (not set)  google  organic  (not provided)   \n",
       "2                      0.0  (not set)  google  organic  (not provided)   \n",
       "3                      0.0  (not set)  google  organic  (not provided)   \n",
       "4                      0.0  (not set)  google  organic  (not provided)   \n",
       "\n",
       "  referralPath adContent page slot gclId adNetworkType    date_cd  \\\n",
       "0          NaN       NaN  NaN  NaN   NaN           NaN 2017-10-16   \n",
       "1          NaN       NaN  NaN  NaN   NaN           NaN 2017-10-16   \n",
       "2          NaN       NaN  NaN  NaN   NaN           NaN 2017-10-16   \n",
       "3          NaN       NaN  NaN  NaN   NaN           NaN 2017-10-16   \n",
       "4          NaN       NaN  NaN  NaN   NaN           NaN 2017-10-16   \n",
       "\n",
       "  datetime_visitStartTime          fullVisitorId_visitId  date_year  \\\n",
       "0     2017-10-16 18:14:18  59839878999338149481508177658       2017   \n",
       "1     2017-10-16 16:21:54  26313123671602719841508170914       2017   \n",
       "2     2017-10-17 06:52:15  08751419842509770911508223135       2017   \n",
       "3     2017-10-16 19:50:32  79791312638814513341508183432       2017   \n",
       "4     2017-10-16 13:20:16   4515214114120936301508160016       2017   \n",
       "\n",
       "   date_month  date_day  date_dayofweek  date_dayofyear  date_daysinmonth  \\\n",
       "0          10        16               0             289                31   \n",
       "1          10        16               0             289                31   \n",
       "2          10        16               0             289                31   \n",
       "3          10        16               0             289                31   \n",
       "4          10        16               0             289                31   \n",
       "\n",
       "  date_freqstr  date_quarter date_yearmonth  \n",
       "0         None             4        2017_10  \n",
       "1         None             4        2017_10  \n",
       "2         None             4        2017_10  \n",
       "3         None             4        2017_10  \n",
       "4         None             4        2017_10  "
      ]
     },
     "execution_count": 42,
     "metadata": {},
     "output_type": "execute_result"
    }
   ],
   "source": [
    "df.head()"
   ]
  },
  {
   "cell_type": "code",
   "execution_count": 43,
   "metadata": {},
   "outputs": [
    {
     "data": {
      "text/plain": [
       "[Text(0, 0, '2016_10'),\n",
       " Text(0, 0, '2016_11'),\n",
       " Text(0, 0, '2016_12'),\n",
       " Text(0, 0, '2016_8'),\n",
       " Text(0, 0, '2016_9'),\n",
       " Text(0, 0, '2017_1'),\n",
       " Text(0, 0, '2017_10'),\n",
       " Text(0, 0, '2017_11'),\n",
       " Text(0, 0, '2017_12'),\n",
       " Text(0, 0, '2017_2'),\n",
       " Text(0, 0, '2017_3'),\n",
       " Text(0, 0, '2017_4'),\n",
       " Text(0, 0, '2017_5'),\n",
       " Text(0, 0, '2017_6'),\n",
       " Text(0, 0, '2017_7'),\n",
       " Text(0, 0, '2017_8'),\n",
       " Text(0, 0, '2017_9'),\n",
       " Text(0, 0, '2018_1'),\n",
       " Text(0, 0, '2018_2'),\n",
       " Text(0, 0, '2018_3'),\n",
       " Text(0, 0, '2018_4')]"
      ]
     },
     "execution_count": 43,
     "metadata": {},
     "output_type": "execute_result"
    },
    {
     "data": {
      "image/png": "[encoded data removed]",
      "text/plain": [
       "<Figure size 864x432 with 1 Axes>"
      ]
     },
     "metadata": {},
     "output_type": "display_data"
    }
   ],
   "source": [
    "sns.set_style('darkgrid')\n",
    "\n",
    "plt.rcParams[\"figure.figsize\"] = (12, 6)\n",
    "plt.rcParams[\"xtick.labelsize\"] = 10\n",
    "ax = sns.countplot(x=\"date_yearmonth\",data=df)\n",
    "ax.set_xticklabels(ax.get_xticklabels(), rotation=40, ha=\"right\")\n"
   ]
  },
  {
   "cell_type": "code",
   "execution_count": 44,
   "metadata": {},
   "outputs": [
    {
     "data": {
      "text/plain": [
       "Text(0.5, 1.0, 'Years')"
      ]
     },
     "execution_count": 44,
     "metadata": {},
     "output_type": "execute_result"
    },
    {
     "data": {
      "image/png": "[encoded data removed]",
      "text/plain": [
       "<Figure size 864x864 with 1 Axes>"
      ]
     },
     "metadata": {},
     "output_type": "display_data"
    }
   ],
   "source": [
    "df.groupby('date_year').size().plot(kind = 'line', figsize=(12,12))\n",
    "plt.title('Years',fontsize=15)"
   ]
  },
  {
   "cell_type": "code",
   "execution_count": 45,
   "metadata": {},
   "outputs": [
    {
     "data": {
      "image/png": "[encoded data removed]",
      "text/plain": [
       "<Figure size 864x432 with 1 Axes>"
      ]
     },
     "metadata": {},
     "output_type": "display_data"
    }
   ],
   "source": [
    "df.groupby('date_month').size()\n",
    "ax = sns.barplot(x=\"transactionRevenue\", y=\"date_month\", data=df)\n"
   ]
  },
  {
   "cell_type": "code",
   "execution_count": 46,
   "metadata": {},
   "outputs": [
    {
     "data": {
      "text/plain": [
       "Text(0, 0.5, 'Total Transaction Revenue')"
      ]
     },
     "execution_count": 46,
     "metadata": {},
     "output_type": "execute_result"
    },
    {
     "data": {
      "image/png": "[encoded data removed]",
      "text/plain": [
       "<Figure size 1080x648 with 1 Axes>"
      ]
     },
     "metadata": {},
     "output_type": "display_data"
    }
   ],
   "source": [
    "#Seaborn barplot\n",
    "sns.set_style(\"whitegrid\")\n",
    "bar,ax = plt.subplots(figsize=(15,9))\n",
    "ax = sns.barplot(x=\"medium\", y=\"totalTransactionRevenue\", hue='deviceCategory', data=df)\n",
    "ax.set_title(\"Pie chart approximation in Seaborn - Total Transanction Revenue by Medium\", fontsize=15)\n",
    "ax.set_xlabel (\"Medium / Source Grouping\")\n",
    "ax.set_ylabel (\"Total Transaction Revenue\")\n"
   ]
  },
  {
   "cell_type": "code",
   "execution_count": 47,
   "metadata": {},
   "outputs": [],
   "source": [
    "# Missing values for target\n",
    "df['totalTransactionRevenue'].fillna(0,inplace=True)\n"
   ]
  },
  {
   "cell_type": "code",
   "execution_count": 48,
   "metadata": {},
   "outputs": [],
   "source": [
    "pd.to_numeric(df['timeOnSite'], errors='coerce')\n",
    "df['timeOnSite'].fillna(0,inplace=True)\n",
    "df['timeOnSite']=df['timeOnSite'].astype('int32')\n"
   ]
  },
  {
   "cell_type": "code",
   "execution_count": 49,
   "metadata": {},
   "outputs": [
    {
     "name": "stdout",
     "output_type": "stream",
     "text": [
      "637 days 00:00:00\n",
      "167 days 00:00:00\n",
      "805 days 00:00:00\n"
     ]
    }
   ],
   "source": [
    "# 637 days of train data and 167 days of test data\n",
    "print(df['date_cd'].max()-df['date_cd'].min()) # min - 20160801 , max 20180430\n",
    "print(test_df['date_cd'].max()-test_df['date_cd'].min()) # min - 20180501 , max 20181015\n",
    "\n",
    "# Creating a single dataframe with both train and test datasets\n",
    "df_full = pd.concat([df, test_df], axis=0).reset_index()\n",
    "\n",
    "print(df_full['date_cd'].max()-df_full['date_cd'].min()) # min - 20160801 , max 20181015\n",
    "\n",
    "\n",
    "# Cooling period is 46 days till December 1st 2018"
   ]
  },
  {
   "cell_type": "markdown",
   "metadata": {},
   "source": [
    "# Since we are predicting future values after a cooling period of 46 days, creating multiple train and test dataframe with cooling periods"
   ]
  },
  {
   "cell_type": "code",
   "execution_count": 50,
   "metadata": {},
   "outputs": [
    {
     "name": "stdout",
     "output_type": "stream",
     "text": [
      "Date range from -  2016-08-01 00:00:00  to  2018-04-30 00:00:00\n",
      "<class 'pandas.core.frame.DataFrame'>\n",
      "RangeIndex: 351368 entries, 0 to 351367\n",
      "Data columns (total 48 columns):\n",
      " #   Column                   Non-Null Count   Dtype         \n",
      "---  ------                   --------------   -----         \n",
      " 0   channelGrouping          351368 non-null  object        \n",
      " 1   customDimensions         351368 non-null  object        \n",
      " 2   date                     351368 non-null  int64         \n",
      " 3   fullVisitorId            351368 non-null  object        \n",
      " 4   hits_1                   351368 non-null  object        \n",
      " 5   visitId                  351368 non-null  int64         \n",
      " 6   visitNumber              351368 non-null  float64       \n",
      " 7   visitStartTime           351368 non-null  float64       \n",
      " 8   browser                  351368 non-null  object        \n",
      " 9   operatingSystem          351368 non-null  object        \n",
      " 10  isMobile                 351368 non-null  bool          \n",
      " 11  deviceCategory           351368 non-null  object        \n",
      " 12  continent                351368 non-null  object        \n",
      " 13  subContinent             351368 non-null  object        \n",
      " 14  country                  351368 non-null  object        \n",
      " 15  region                   351368 non-null  object        \n",
      " 16  metro                    351368 non-null  object        \n",
      " 17  city                     351368 non-null  object        \n",
      " 18  networkDomain            351368 non-null  object        \n",
      " 19  hits_2                   351368 non-null  float64       \n",
      " 20  pageviews                351368 non-null  float64       \n",
      " 21  timeOnSite               351368 non-null  int32         \n",
      " 22  sessionQualityDim        179468 non-null  object        \n",
      " 23  transactions             351368 non-null  float64       \n",
      " 24  transactionRevenue       351368 non-null  float64       \n",
      " 25  totalTransactionRevenue  351368 non-null  float64       \n",
      " 26  campaign                 351368 non-null  object        \n",
      " 27  source                   351368 non-null  object        \n",
      " 28  medium                   351368 non-null  object        \n",
      " 29  keyword                  135014 non-null  object        \n",
      " 30  referralPath             116434 non-null  object        \n",
      " 31  adContent                13355 non-null   object        \n",
      " 32  page                     15528 non-null   object        \n",
      " 33  slot                     15528 non-null   object        \n",
      " 34  gclId                    15554 non-null   object        \n",
      " 35  adNetworkType            15528 non-null   object        \n",
      " 36  date_cd                  351368 non-null  datetime64[ns]\n",
      " 37  datetime_visitStartTime  351368 non-null  datetime64[ns]\n",
      " 38  fullVisitorId_visitId    351368 non-null  object        \n",
      " 39  date_year                351368 non-null  int64         \n",
      " 40  date_month               351368 non-null  int64         \n",
      " 41  date_day                 351368 non-null  int64         \n",
      " 42  date_dayofweek           351368 non-null  int64         \n",
      " 43  date_dayofyear           351368 non-null  int64         \n",
      " 44  date_daysinmonth         351368 non-null  int64         \n",
      " 45  date_freqstr             0 non-null       object        \n",
      " 46  date_quarter             351368 non-null  int64         \n",
      " 47  date_yearmonth           351368 non-null  object        \n",
      "dtypes: bool(1), datetime64[ns](2), float64(7), int32(1), int64(9), object(28)\n",
      "memory usage: 125.0+ MB\n"
     ]
    }
   ],
   "source": [
    "print('Date range from - ', df['date_cd'].min() ,' to ',  df['date_cd'].max())\n",
    "df.info()"
   ]
  },
  {
   "cell_type": "code",
   "execution_count": null,
   "metadata": {},
   "outputs": [],
   "source": [
    "'''\n",
    "tf_group = tf.groupby('fullVisitorId').agg({\n",
    "            'channelGrouping': lambda x: x.dropna().max(),\n",
    "            'visitId': lambda x: x.dropna().max(),\n",
    "            'visitStartTime': lambda x: x.dropna().count(),\n",
    "            'operatingSystem': lambda x: x.dropna().max(),\n",
    "            'browser': lambda x: x.dropna().max(),\n",
    "            'isMobile': lambda x: x.dropna().max(),\n",
    "            'deviceCategory': lambda x: x.dropna().max(),\n",
    "            'continent': lambda x: x.dropna().max(),\n",
    "            'subContinent': lambda x: x.dropna().max(),\n",
    "            'country': lambda x: x.dropna().max(),\n",
    "            'region': lambda x: x.dropna().max(),\n",
    "            'metro': lambda x: x.dropna().max(),\n",
    "            'city': lambda x: x.dropna().max(),\n",
    "            'hits_2': lambda x: x.dropna().max(),\n",
    "            'pageviews': lambda x: x.dropna().max(),\n",
    "            'sessionQualityDim': lambda x: x.dropna().max(),\n",
    "            'timeOnSite': lambda x: x.dropna().max(),\n",
    "            'campaign': lambda x: x.dropna().max(),\n",
    "            'medium': lambda x: x.dropna().max(),\n",
    "            'source': lambda x: x.dropna().max(),\n",
    "            'keyword': lambda x: x.dropna().max(),\n",
    "            'referralPath': lambda x: x.dropna().max(),\n",
    "            'adContent': lambda x: x.dropna().max(),\n",
    "            'page': lambda x: x.dropna().max(),\n",
    "            'slot': lambda x: x.dropna().max(),\n",
    "            'adNetworkType': lambda x: x.dropna().max(),\n",
    "            'gclId': lambda x: x.dropna().max(),\n",
    "            'networkDomain': lambda x: x.dropna().max(),\n",
    "            'visitNumber' : lambda x: x.dropna().max(), \n",
    "            'totalTransactionRevenue':  lambda x:x.dropna().sum(),\n",
    "            'transactionRevenue': lambda x: x.dropna().sum(),\n",
    "            'transactions' : lambda x:x.dropna().sum(),     \n",
    "            })\n",
    "            \n",
    "'''        "
   ]
  },
  {
   "cell_type": "code",
   "execution_count": 51,
   "metadata": {
    "scrolled": true
   },
   "outputs": [],
   "source": [
    "from datetime import datetime, timedelta\n",
    "  \n",
    "def gettimerangedataframe(tr,k=1):\n",
    "\n",
    "    # First dataframe with start date of 2016-08-01 to 168 days i.e. 2017-01-15\n",
    "        tf = tr.loc[(tr['date_cd'] >= min(tr['date_cd']) + timedelta(days=168*(k-1))) \n",
    "                          & (tr['date_cd'] < min(tr['date_cd']) + timedelta(days=168*k))]\n",
    "\n",
    "\n",
    "        # list of all the visitors within the date range of 46 days (cooling days) from the end date of the dataframe \n",
    "        # i.e 2017-03-03 to  62 days of testing period i.e. 2017-05-03 \n",
    "        # len(tf_fvid) -- 27192\n",
    "        tf_fvid = set(tr.loc[(tr['date_cd'] >= min(tr['date_cd']) + timedelta(days=168*k + 46 )) \n",
    "                               & (tr['date_cd'] < min(tr['date_cd']) + timedelta(days=168*k + 46 + 62))]['fullVisitorId']) \n",
    "\n",
    "        # List of the visitors who are part of the first subset dataframe and have come back after the 46 days cooling period \n",
    "        # Has data for the date range 2016-08-01 to 2017-01-15\n",
    "        #len(tf_returned['fullVisitorId'].unique())  -- 233\n",
    "        #len(tf_returned)  -- 551\n",
    "\n",
    "        tf_returned = tf[tf['fullVisitorId'].isin(tf_fvid)]\n",
    "\n",
    "\n",
    "        # Dataframe for the visitors who are returned after cooling period of 46 days. \n",
    "        # Has data for the date range 2017-03-03  to  2017-05-03\n",
    "        #len(tf_tst['fullVisitorId'].unique()) --233\n",
    "        #len(tf_tst)  -- 361\n",
    "\n",
    "        tf_tst = tr[tr['fullVisitorId'].isin(set(tf_returned['fullVisitorId']))\n",
    "                     & (tr['date_cd'] >= min(tr['date_cd']) + timedelta(days=168*k + 46))\n",
    "                     & (tr['date_cd'] < min(tr['date_cd']) + timedelta(days=168*k + 46 + 62))]\n",
    "\n",
    " \n",
    "        tf_tst1= pd.to_numeric(tf_tst.groupby('fullVisitorId')[['totalTransactionRevenue']].sum().totalTransactionRevenue)\n",
    "        tf_target = tf_tst1.apply(lambda x: np.log1p(x)).reset_index()\n",
    "        tf_target['ret'] = 1\n",
    "\n",
    "        tf_nonret = pd.DataFrame()\n",
    "        tf_nonret['fullVisitorId'] = list(set(tf['fullVisitorId']) - tf_fvid)    \n",
    "        tf_nonret['totalTransactionRevenue'] = 0\n",
    "        tf_nonret['ret'] = 0\n",
    "\n",
    "        tf_target = pd.concat([tf_target, tf_nonret], axis=0).reset_index(drop=True)\n",
    "\n",
    "        # len(tf_final.loc[tf_final['ret']==0]) #95166\n",
    "        # len(tf_final.loc[tf_final['ret']==1]) #551\n",
    "        # len(tf_final) #95717\n",
    "        \n",
    "        tf_mindate = max(tf['date_cd'])\n",
    "        tf_maxdate = min(tf['date_cd'])\n",
    "  \n",
    "        tf_group = tf.groupby('fullVisitorId').agg({\n",
    "            'channelGrouping': lambda x: x.dropna().max(),\n",
    "            'visitId': lambda x: x.dropna().max(),\n",
    "            'visitStartTime': lambda x: x.dropna().count(),\n",
    "            'operatingSystem': lambda x: x.dropna().max(),\n",
    "            'browser': lambda x: x.dropna().max(),\n",
    "            'isMobile': lambda x: x.dropna().max(),\n",
    "            'deviceCategory': lambda x: x.dropna().max(),\n",
    "            'continent': lambda x: x.dropna().max(),\n",
    "            'subContinent': lambda x: x.dropna().max(),\n",
    "            'country': lambda x: x.dropna().max(),\n",
    "            'region': lambda x: x.dropna().max(),\n",
    "            'metro': lambda x: x.dropna().max(),\n",
    "            'city': lambda x: x.dropna().max(),\n",
    "            'hits_2': lambda x: x.dropna().max(),\n",
    "            'pageviews': lambda x: x.dropna().max(),\n",
    "            'sessionQualityDim': lambda x: x.dropna().max(),\n",
    "            'timeOnSite': lambda x: x.dropna().max(),\n",
    "            'campaign': lambda x: x.dropna().max(),\n",
    "            'medium': lambda x: x.dropna().max(),\n",
    "            'source': lambda x: x.dropna().max(),\n",
    "            'keyword': lambda x: x.dropna().max(),\n",
    "            'referralPath': lambda x: x.dropna().max(),\n",
    "            'adContent': lambda x: x.dropna().max(),\n",
    "            'page': lambda x: x.dropna().max(),\n",
    "            'slot': lambda x: x.dropna().max(),\n",
    "            'adNetworkType': lambda x: x.dropna().max(),\n",
    "            'gclId': lambda x: x.dropna().max(),\n",
    "            'networkDomain': lambda x: x.dropna().max(),\n",
    "            'visitNumber' : lambda x: x.dropna().max(), \n",
    "            'totalTransactionRevenue':  lambda x:x.dropna().sum(),\n",
    "            'transactionRevenue': lambda x: x.dropna().sum(),\n",
    "            'transactions' : lambda x:x.dropna().sum(),     \n",
    "        })\n",
    "        \n",
    "        tf_group.columns = tf_group.columns.droplevel()\n",
    "\n",
    "        tf_final = pd.merge(tf_group, tf_target, left_on='fullVisitorId', right_on='fullVisitorId')\n",
    "      \n",
    "        return tf_final"
   ]
  },
  {
   "cell_type": "code",
   "execution_count": null,
   "metadata": {},
   "outputs": [],
   "source": [
    "tr_1=gettimerangedataframe(df_full,1)\n",
    "tr_2=gettimerangedataframe(df_full,2)\n",
    "tr_3=gettimerangedataframe(df_full,3)\n",
    "tr_4=gettimerangedataframe(df_full,4)\n"
   ]
  },
  {
   "cell_type": "code",
   "execution_count": null,
   "metadata": {},
   "outputs": [],
   "source": [
    "print('first dataframe - tr1. Min Day - ',tr_1['date_cd'].min(), ' to ', tr_1['date_cd'].max())\n",
    "print('Number of returned customers ',tr_1['ret'].sum(),'of the total',tr_1['fullVisitorId'].count())\n",
    "print('second dataframe - tr2. Min Day - ',tr_2['date_cd'].min(), ' to ', tr_2['date_cd'].max())\n",
    "print('Number of returned customers ',tr_2['ret'].sum(),'of the total',tr_2['fullVisitorId'].count())\n",
    "print('third dataframe - tr3. Min Day - ',tr_3['date_cd'].min(), ' to ', tr_3['date_cd'].max())\n",
    "print('Number of returned customers ',tr_3['ret'].sum(),'of the total',tr_3['fullVisitorId'].count())\n",
    "print('fourth dataframe - tr4. Min Day - ',tr_4['date_cd'].min(), ' to ', tr_4['date_cd'].max())\n",
    "print('Number of returned customers ',tr_4['ret'].sum(),'of the total',tr_4['fullVisitorId'].count())\n"
   ]
  },
  {
   "cell_type": "code",
   "execution_count": null,
   "metadata": {},
   "outputs": [],
   "source": [
    "# Getting Test data\n",
    "tr_5 =df_full[df_full['date_cd'] >= pd.to_datetime(20180501, infer_datetime_format=True, format=\"%Y%m%d\")]\n",
    "print('first dataframe - tr1. Min Day - ', tr_5['date_cd'].min(), ' to ',  tr_5['date_cd'].max())\n",
    "tr_5['totalTransactionRevenue'] = np.nan\n",
    "tr_5['ret'] = np.nan"
   ]
  },
  {
   "cell_type": "code",
   "execution_count": null,
   "metadata": {},
   "outputs": [],
   "source": [
    "train_test_combined = pd.concat([tr_1, tr_2, tr_3, tr_4, tr_5], axis=0, sort=False).reset_index(drop=True)\n",
    "\n"
   ]
  },
  {
   "cell_type": "code",
   "execution_count": null,
   "metadata": {},
   "outputs": [],
   "source": [
    "# Split the train dataset into development and valid based on time \n",
    "dev_df = train_test_combined[train_test_combined['date_cd']<='2017-05-31 00:00:00']\n",
    "val_df = train_test_combined[train_test_combined['date_cd']>'2017-05-31 00:00:00']\n",
    "\n",
    "dev_y = np.log1p(dev_df[\"transactionRevenue\"].values)\n",
    "val_y = np.log1p(val_df[\"transactionRevenue\"].values)\n",
    "\n",
    "dev_X = dev_df[numeric_features]\n",
    "val_X = val_df[numeric_features]\n",
    "test_X = test_df[numeric_features]"
   ]
  },
  {
   "cell_type": "code",
   "execution_count": null,
   "metadata": {},
   "outputs": [],
   "source": []
  }
 ],
 "metadata": {
  "kernelspec": {
   "display_name": "Python 3",
   "language": "python",
   "name": "python3"
  },
  "language_info": {
   "codemirror_mode": {
    "name": "ipython",
    "version": 3
   },
   "file_extension": ".py",
   "mimetype": "text/x-python",
   "name": "python",
   "nbconvert_exporter": "python",
   "pygments_lexer": "ipython3",
   "version": "3.8.3"
  }
 },
 "nbformat": 4,
 "nbformat_minor": 4
}
