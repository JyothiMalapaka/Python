{
 "cells": [
  {
   "cell_type": "markdown",
   "metadata": {},
   "source": [
    "1.1 Write a Python Program(with class concepts) to find the area of the triangle using the below\n",
    "formula.\n",
    "area = (s*(s-a)*(s-b)*(s-c)) ** 0.5\n",
    "s = (a+b+c)/2\n",
    "Function to take the length of the sides of triangle from user should be defined in the parent\n",
    "class and function to calculate the area should be defined in subclass./"
   ]
  },
  {
   "cell_type": "code",
   "execution_count": 7,
   "metadata": {},
   "outputs": [
    {
     "name": "stdout",
     "output_type": "stream",
     "text": [
      "Enter the length of first side of triangle:12\n",
      "Enter the length of second side of triangle:12\n",
      "Enter the length of third side of triangle:2\n",
      "11.958260743101398\n"
     ]
    }
   ],
   "source": [
    "class Triangle:\n",
    "    def __init__(self):\n",
    "        self.first = int(input('Enter the length of first side of triangle:'))\n",
    "        self.second =int(input('Enter the length of second side of triangle:'))\n",
    "        self.third = int(input('Enter the length of third side of triangle:'))\n",
    "\n",
    "class TriangleArea(Triangle):\n",
    "    def area(self):\n",
    "        s= (self.first+self.second+self.third)/2\n",
    "        return (s*(s-self.first)*(s-self.second)*(s-self.third))**0.5\n",
    "\n",
    "    \n",
    "y =TriangleArea()  \n",
    "print(y.area())   \n",
    "    "
   ]
  },
  {
   "cell_type": "markdown",
   "metadata": {},
   "source": [
    "1.2 Write a function filter_long_words() that takes a list of words and an integer n and returns\n",
    "the list of words that are longer than n."
   ]
  },
  {
   "cell_type": "code",
   "execution_count": 15,
   "metadata": {},
   "outputs": [
    {
     "name": "stdout",
     "output_type": "stream",
     "text": [
      "How many words in the list?5\n",
      "Please enter a word for list:alpha\n",
      "Please enter a word for list:beta\n",
      "Please enter a word for list:gamma\n",
      "Please enter a word for list:delta\n",
      "Please enter a word for list:lambda\n",
      "What is the minimum length for words ? 5\n",
      "['lambda']\n"
     ]
    }
   ],
   "source": [
    "def filter_long_words(listofWords,Maxlength):\n",
    "    revisedList=[]    \n",
    "    for i in listofWords:\n",
    "        if len(i)>Maxlength:\n",
    "            revisedList.append(i)\n",
    "    return revisedList\n",
    "\n",
    "Lst = []\n",
    "LstWordCount= int(input('How many words in the list? '))\n",
    "for i in range(LstWordCount):\n",
    "    Lst.append(input('Please enter a word for list: '))\n",
    "    \n",
    "Maxlength = int(input('What is the minimum length for words? '))\n",
    "print(filter_long_words(Lst,Maxlength))\n",
    "\n"
   ]
  },
  {
   "cell_type": "markdown",
   "metadata": {},
   "source": [
    "2.1 Write a Python program using function concept that maps list of words into a list of integers\n",
    "representing the lengths of the corresponding words.\n",
    "Hint: If a list [ ab,cde,erty] is passed on to the python function output should come as [2,3,4]\n",
    "Here 2,3 and 4 are the lengths of the words in the list."
   ]
  },
  {
   "cell_type": "code",
   "execution_count": 19,
   "metadata": {},
   "outputs": [
    {
     "name": "stdout",
     "output_type": "stream",
     "text": [
      "How many words in the list? 4\n",
      "Please enter a word for list: Alpha\n",
      "Please enter a word for list: Beta\n",
      "Please enter a word for list: Gamma\n",
      "Please enter a word for list: Delta\n",
      "[5, 4, 5, 5]\n"
     ]
    }
   ],
   "source": [
    "def LsttoLength():\n",
    "    Lst = []\n",
    "    LstWordCount= int(input('How many words in the list? '))\n",
    "    for i in range(LstWordCount):\n",
    "         Lst.append(len(input('Please enter a word for list: ')))\n",
    "    return Lst\n",
    "\n",
    "print(LsttoLength())\n"
   ]
  },
  {
   "cell_type": "markdown",
   "metadata": {},
   "source": [
    "2.2 Write a Python function which takes a character (i.e. a string of length 1) and returns True if\n",
    "it is a vowel, False otherwise."
   ]
  },
  {
   "cell_type": "code",
   "execution_count": 32,
   "metadata": {},
   "outputs": [
    {
     "name": "stdout",
     "output_type": "stream",
     "text": [
      "Enter a character to check if it is vowel or not ? Alpha\n",
      "True\n"
     ]
    }
   ],
   "source": [
    "def isVowel():\n",
    "    char=input('Enter a character to check if it is vowel or not ? ')\n",
    "    vowels= ('a','e','i','o','u')\n",
    "    return char.lower().startswith(vowels)\n",
    "        \n",
    "    \n",
    "print(isVowel())    "
   ]
  }
 ],
 "metadata": {
  "kernelspec": {
   "display_name": "Python 3",
   "language": "python",
   "name": "python3"
  },
  "language_info": {
   "codemirror_mode": {
    "name": "ipython",
    "version": 3
   },
   "file_extension": ".py",
   "mimetype": "text/x-python",
   "name": "python",
   "nbconvert_exporter": "python",
   "pygments_lexer": "ipython3",
   "version": "3.8.3"
  }
 },
 "nbformat": 4,
 "nbformat_minor": 4
}
