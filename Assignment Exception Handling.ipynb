{
 "cells": [
  {
   "cell_type": "markdown",
   "metadata": {},
   "source": [
    "1. Write a function to compute 5/0 and use try/except to catch the exceptions"
   ]
  },
  {
   "cell_type": "code",
   "execution_count": 2,
   "metadata": {},
   "outputs": [
    {
     "name": "stdout",
     "output_type": "stream",
     "text": [
      "Enter the numerator: 1\n",
      "Enter the denominator: 0\n",
      "Raising a zero division error, enter the second value which is not 0\n",
      "None\n"
     ]
    }
   ],
   "source": [
    "def division(a=0,b=0):\n",
    "    try:\n",
    "        a=float(input('Enter the numerator: '))\n",
    "        b=float(input('Enter the denominator: '))\n",
    "        return a/b\n",
    "    except ValueError:\n",
    "        print('The numerator and denominator should be numbers')\n",
    "    except ZeroDivisionError:\n",
    "        print('Raising a zero division error, enter the second value which is not 0')\n",
    "    except ArithmeticError as ae:\n",
    "        print('Check the numbers given. Error - ',ae)\n",
    "    \n",
    "print(division())       "
   ]
  },
  {
   "cell_type": "markdown",
   "metadata": {},
   "source": [
    "2. Implement a Python program to generate all sentences where subject is in\n",
    "[\"Americans\", \"Indians\"] and verb is in [\"Play\", \"watch\"] and the object is in\n",
    "[\"Baseball\",\"cricket\"]."
   ]
  },
  {
   "cell_type": "code",
   "execution_count": 19,
   "metadata": {},
   "outputs": [
    {
     "name": "stdout",
     "output_type": "stream",
     "text": [
      "Americans  play  baseball\n",
      "Americans  play  cricket\n",
      "Americans  watch  baseball\n",
      "Americans  watch  cricket\n",
      "Indians  play  baseball\n",
      "Indians  play  cricket\n",
      "Indians  watch  baseball\n",
      "Indians  watch  cricket\n"
     ]
    }
   ],
   "source": [
    "subject = ['Americans','Indians']\n",
    "verb = ['play','watch']\n",
    "sentenceobject = ['baseball','cricket']\n",
    "            \n",
    "for i in subject:\n",
    "    for j in verb:\n",
    "        for k in sentenceobject:\n",
    "            print(i,'',j,'',k)\n"
   ]
  }
 ],
 "metadata": {
  "kernelspec": {
   "display_name": "Python 3",
   "language": "python",
   "name": "python3"
  },
  "language_info": {
   "codemirror_mode": {
    "name": "ipython",
    "version": 3
   },
   "file_extension": ".py",
   "mimetype": "text/x-python",
   "name": "python",
   "nbconvert_exporter": "python",
   "pygments_lexer": "ipython3",
   "version": "3.8.3"
  }
 },
 "nbformat": 4,
 "nbformat_minor": 4
}
